{
 "cells": [
  {
   "cell_type": "markdown",
   "metadata": {},
   "source": [
    "## Part 1: Preprocessing Data"
   ]
  },
  {
   "cell_type": "code",
   "execution_count": null,
   "metadata": {
    "collapsed": false
   },
   "outputs": [],
   "source": [
    "import pandas as pd\n",
    "\n",
    "path = 'C:/Users/2093/Desktop/Data Center/03. Data/06. companies/財政部廠商進出口資料/KMG_HS6COUNTRY.csv'\n",
    "df = pd.read_csv(path, names=['ban', 'code', 'country', 'year', 'month', 'ex', 'im'], header=0,\n",
    "                 dtype={'ban': str, 'code': str, 'country': str, 'year': str, 'month': str,\n",
    "                        'ex': int, 'im': int})\n",
    "# Remove yearly total rows\n",
    "df = df[df['month'].notnull()]\n",
    "# Pad zeros and construct DatetimeIndex\n",
    "df['month'] = df['month'].apply(lambda x: x.zfill(2))\n",
    "df.index = pd.to_datetime(df['year'] + df['month'], format='%Y%m')\n",
    "df.index.name = 'date'\n",
    "# Drop original year and month columns\n",
    "df = df.drop(['year', 'month'], axis=1)"
   ]
  },
  {
   "cell_type": "markdown",
   "metadata": {},
   "source": [
    "## Part 2: Export Commodity Summary Statistics"
   ]
  },
  {
   "cell_type": "code",
   "execution_count": null,
   "metadata": {
    "collapsed": false
   },
   "outputs": [],
   "source": [
    "import numpy as np\n",
    "\n",
    "n_codes = np.mean([len(df.loc['2014', :]['code'].unique()), len(df.loc['2015', :]['code'].unique())])\n",
    "print('臺灣一年平均進出口{:,.0f}種HS6產品。'.format(n_codes))"
   ]
  },
  {
   "cell_type": "code",
   "execution_count": null,
   "metadata": {
    "collapsed": false
   },
   "outputs": [],
   "source": [
    "import matplotlib.pyplot as plt\n",
    "\n",
    "code_stats = df.loc['2015', :].groupby(['code']).agg({'ex': 'sum', 'country': 'nunique', 'ban': 'nunique'})\n",
    "\n",
    "plt.clf()\n",
    "fig, axes = plt.subplots(nrows=1, ncols=3)\n",
    "code_stats['ex'].plot(ax=axes[0], kind='box')\n",
    "code_stats['country'].plot(ax=axes[1], kind='box')\n",
    "code_stats['ban'].plot(ax=axes[2], kind='box')\n",
    "axes[0].set_yscale('log')\n",
    "axes[0].set_ylabel('Export (100 Thousand USD)')\n",
    "axes[1].set_ylabel('No. of Countries')\n",
    "axes[2].set_yscale('log')\n",
    "axes[2].set_ylabel('No. of Exporters')\n",
    "plt.tight_layout()\n",
    "plt.show()\n",
    "\n",
    "print(code_stats['ex'].describe())\n",
    "print('\\n單一產品之出口額中位數為{:.0f}萬美元，平均值則達{:,.0f}萬美元，二者落差極大，顯示離群值有非常大的影響力。\\n'.format(\n",
    "    code_stats['ex'].describe()['50%'] * 10, code_stats['ex'].describe()['mean'] * 10) +\n",
    "    '其中金額最大者為{}(積體電路)。\\n'.format(code_stats[code_stats['ex'] == code_stats['ex'].max()].index[0]))\n",
    "\n",
    "print(code_stats['country'].describe())\n",
    "print('\\n平均每種產品出口至{:.0f}個國家。\\n'.format(code_stats['country'].describe()['mean']) +\n",
    "     '除了{}(旅客攜帶之應稅零星物品)外，出口至最多國家({}國)的產品是{}(其他塑膠製品)。\\n'.format(\n",
    "        code_stats[code_stats['country'] == code_stats['country'].max()].index[0],\n",
    "        code_stats.sort_values(by='country', ascending=False)['country'][1],\n",
    "        code_stats.sort_values(by='country', ascending=False).index[1]))\n",
    "\n",
    "print(code_stats['ban'].describe())\n",
    "print('\\n以中位數而言，每種產品有{:.0f}家不重複的出口商。\\n'.format(code_stats['ban'].describe()['50%']) +\n",
    "    '扣除{}(旅客攜帶之應稅零星物品)，最多出口商的產品為{}(其他塑膠製品)，出口商達{:,}家。'.format(\n",
    "        code_stats[code_stats['ban'] == code_stats['ban'].max()].index[0],\n",
    "        code_stats.sort_values(by='ban', ascending=False).index[1],\n",
    "        code_stats.sort_values(by='ban', ascending=False)['ban'][1]))"
   ]
  },
  {
   "cell_type": "code",
   "execution_count": null,
   "metadata": {
    "collapsed": false
   },
   "outputs": [],
   "source": [
    "code_stats_country = df.loc['2015', :].groupby(['code', 'country']).agg({'ban': 'nunique'}).drop(\n",
    "    '989900', level='code')\n",
    "\n",
    "plt.clf()\n",
    "code_stats_country.plot(kind='box', logy=True)\n",
    "plt.ylabel('No. of Exporters per Country')\n",
    "plt.show()\n",
    "\n",
    "print(code_stats_country.describe())\n",
    "print('\\n若是同時考慮自臺灣進口的國家別，則每種產品在每個國家約只有{:.0f}至{:.0f}家臺灣出口商。\\n'.format(\n",
    "    code_stats_country['ban'].describe()['25%'], code_stats_country['ban'].describe()['75%']) +\n",
    "    '其中最多臺灣出口商的組合為{}(其他塑膠製品)-{}(中國)，共{:,.0f}家。'.format(\n",
    "    code_stats_country[code_stats_country['ban'] == code_stats_country['ban'].max()].index[0][0],\n",
    "    code_stats_country[code_stats_country['ban'] == code_stats_country['ban'].max()].index[0][1],\n",
    "    code_stats_country['ban'].describe()['max']))"
   ]
  },
  {
   "cell_type": "code",
   "execution_count": null,
   "metadata": {
    "collapsed": false
   },
   "outputs": [],
   "source": [
    "plt.clf()\n",
    "code_stats_avg = df.loc['2015', :].groupby(['code', 'country']).agg({'ban': 'nunique'}).groupby(\n",
    "    level='country').agg({'ban': 'mean'}).sort_values(by='ban')\n",
    "ax1 = code_stats_avg.plot(kind='barh', fontsize=6, figsize=(10, 30), legend=None)\n",
    "plt.xlabel('No. of Exporters, Averaged over All Commodities') \n",
    "plt.ylabel('Country')\n",
    "\n",
    "ax2 = ax1.twiny()\n",
    "ax2.set_xlim(ax1.get_xlim())\n",
    "ax2.tick_params(labelsize=6)\n",
    "ax2.set_xlabel('No. of Exporters, Averaged over All Commodities')\n",
    "\n",
    "print('由下圖可看到，不同國家的每項產品平均出口商家數差異相當大。平均出口商家數最多的國家(地區)為：\\n\\n' +\n",
    "    '國家(地區)\\t出口商家數\\n{}\\t\\t{:.0f}\\n{}\\t\\t{:.0f}\\n{}\\t\\t{:.0f}\\n{}\\t\\t{:.0f}\\n{}\\t\\t{:.0f}'.format(\n",
    "    code_stats_avg.sort_values(by='ban', ascending=False).index[0],\n",
    "    code_stats_avg.sort_values(by='ban', ascending=False)['ban'][0],\n",
    "    code_stats_avg.sort_values(by='ban', ascending=False).index[1],\n",
    "    code_stats_avg.sort_values(by='ban', ascending=False)['ban'][1],\n",
    "    code_stats_avg.sort_values(by='ban', ascending=False).index[2],\n",
    "    code_stats_avg.sort_values(by='ban', ascending=False)['ban'][2],\n",
    "    code_stats_avg.sort_values(by='ban', ascending=False).index[3],\n",
    "    code_stats_avg.sort_values(by='ban', ascending=False)['ban'][3],\n",
    "    code_stats_avg.sort_values(by='ban', ascending=False).index[4],\n",
    "    code_stats_avg.sort_values(by='ban', ascending=False)['ban'][4]\n",
    "    ))\n",
    "plt.show()"
   ]
  }
 ],
 "metadata": {
  "kernelspec": {
   "display_name": "Python [conda root]",
   "language": "python",
   "name": "conda-root-py"
  },
  "language_info": {
   "codemirror_mode": {
    "name": "ipython",
    "version": 3
   },
   "file_extension": ".py",
   "mimetype": "text/x-python",
   "name": "python",
   "nbconvert_exporter": "python",
   "pygments_lexer": "ipython3",
   "version": "3.5.2"
  }
 },
 "nbformat": 4,
 "nbformat_minor": 1
}
