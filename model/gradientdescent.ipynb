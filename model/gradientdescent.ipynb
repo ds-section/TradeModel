{
 "cells": [
  {
   "cell_type": "code",
   "execution_count": null,
   "metadata": {
    "collapsed": true
   },
   "outputs": [],
   "source": [
    "def computeLinearRegCost(X, y, theta, lmbda):\n",
    "    \"\"\"\n",
    "    Computes the cost of using ``theta`` as the parameter for multivariate linear regression,\n",
    "    with regularization parameter ``lmbda``.\n",
    "    \"\"\"\n",
    "    m = len(y)\n",
    "    pred = np.matmul(X, theta)\n",
    "    res = pred - y\n",
    "    J = 1 / (2 * m) * (np.dot(res, res) + lmbda * np.dot(theta[1:], theta[1:]))\n",
    "    return J\n",
    "\n",
    "def gradientDescent(X, y, theta, lmbda, alpha, n_iters):\n",
    "    \"\"\"\n",
    "    Updates ``theta`` by taking ``n_iters`` gradient steps with learning rate ``alpha``.\n",
    "    \"\"\"\n",
    "    # Initialize some useful values\n",
    "    m = len(y)\n",
    "    J_history = np.zeros(n_iters)\n",
    "    \n",
    "    for itr in range(n_iters):\n",
    "        # Perform a single gradient step\n",
    "        pred = np.matmul(X, theta)\n",
    "        theta = (theta - alpha * (1 / m * np.matmul(X.T, (pred - y)) +\n",
    "                                  lmbda / m * np.hstack((np.zeros(1), theta[1:]))))\n",
    "        # Save the cost J in every iteration\n",
    "        J_history[itr] = computeLinearRegCost(X, y, theta, lmbda)\n",
    "        # Automatic convergence test\n",
    "        if itr > 0 and (J_history[itr-1] - J_history[itr] < 1e-3):\n",
    "            break\n",
    "        \n",
    "    return theta, J_history"
   ]
  },
  {
   "cell_type": "code",
   "execution_count": null,
   "metadata": {
    "collapsed": true
   },
   "outputs": [],
   "source": [
    "# Debug gradient descent\n",
    "theta = np.zeros(X.shape[1])\n",
    "lmbda = 0\n",
    "alpha = 0.0002\n",
    "n_iters = 90000\n",
    "\n",
    "theta, J_history = gradientDescent(X, y, theta, lmbda, alpha, n_iters)"
   ]
  },
  {
   "cell_type": "code",
   "execution_count": null,
   "metadata": {
    "collapsed": true
   },
   "outputs": [],
   "source": [
    "import matplotlib.pyplot as plt\n",
    "\n",
    "plt.plot(range(1, n_iters+1), J_history)\n",
    "plt.title('Gradient Descent (learning rate = {})'.format(alpha))\n",
    "plt.xlabel('No. of Iterations')\n",
    "plt.ylabel('Error')\n",
    "plt.yscale('log')\n",
    "plt.legend(['Train'])\n",
    "plt.show()"
   ]
  }
 ],
 "metadata": {
  "kernelspec": {
   "display_name": "Python [conda root]",
   "language": "python",
   "name": "conda-root-py"
  },
  "language_info": {
   "codemirror_mode": {
    "name": "ipython",
    "version": 3
   },
   "file_extension": ".py",
   "mimetype": "text/x-python",
   "name": "python",
   "nbconvert_exporter": "python",
   "pygments_lexer": "ipython3",
   "version": "3.5.2"
  }
 },
 "nbformat": 4,
 "nbformat_minor": 1
}
