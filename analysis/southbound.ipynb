{
 "cells": [
  {
   "cell_type": "markdown",
   "metadata": {},
   "source": [
    "# New Southbound Eighteen Top-Ranked Products"
   ]
  },
  {
   "cell_type": "code",
   "execution_count": 1,
   "metadata": {
    "collapsed": true
   },
   "outputs": [],
   "source": [
    "import pandas as pd\n",
    "\n",
    "path = 'C:/Users/2093/Desktop/Data Center/09. 產品別出口市場/comp_aggregate_6_utf-8.csv'\n",
    "df = pd.read_csv(path, dtype={'product': str})"
   ]
  },
  {
   "cell_type": "code",
   "execution_count": 2,
   "metadata": {
    "collapsed": false
   },
   "outputs": [],
   "source": [
    "ctry_list = ['不丹', '印尼', '印度', '孟加拉', '寮國', '尼泊爾', '巴基斯坦', '斯里蘭卡', '新加坡',\n",
    "             '柬埔寨', '汶萊', '泰國', '澳大利亞', '紐西蘭', '緬甸', '菲律賓', '越南', '馬來西亞']\n",
    "\n",
    "# Filter for southbound eighteen and rank-1 products\n",
    "rs = df.loc[(df['country'].apply(lambda x: x in ctry_list)) & (df['tw_rank'] == 1),\n",
    "            ['country', 'product', 'desc2', 'desc4', 'desc6', 'val15', 'tw_val15', 'tw_share',\n",
    "             'tw_rank']].sort_values(['country', 'tw_val15'], ascending=[True, False]).rename(\n",
    "    columns={'country' : '進口國',\n",
    "             'product' : '產品代碼',\n",
    "             'desc2'   : 'HS2名稱',\n",
    "             'desc4'   : 'HS4名稱',\n",
    "             'desc6'   : 'HS6名稱',\n",
    "             'val15'   : '自全球進口額(千美元)',\n",
    "             'tw_val15': '自臺進口額(千美元)',\n",
    "             'tw_share': '臺灣市占率',\n",
    "             'tw_rank' : '臺灣排名'})"
   ]
  },
  {
   "cell_type": "code",
   "execution_count": 3,
   "metadata": {
    "collapsed": false
   },
   "outputs": [],
   "source": [
    "# Compute country summary\n",
    "summary = rs.groupby('進口國').agg({'HS6名稱': 'count'}).rename(\n",
    "    columns={'HS6名稱': '冠軍產品數'}).sort_values('冠軍產品數', ascending=False)"
   ]
  },
  {
   "cell_type": "code",
   "execution_count": 4,
   "metadata": {
    "collapsed": false
   },
   "outputs": [],
   "source": [
    "from pandas import ExcelWriter\n",
    "\n",
    "# Write to separate worksheets\n",
    "writer = ExcelWriter('eighteen.xlsx')\n",
    "summary.to_excel(writer, sheet_name='總表')\n",
    "for c in summary.index:\n",
    "    rs[rs['進口國'] == c].to_excel(writer, sheet_name=c, index=False)\n",
    "writer.save()"
   ]
  },
  {
   "cell_type": "code",
   "execution_count": 5,
   "metadata": {
    "collapsed": false
   },
   "outputs": [],
   "source": [
    "from openpyxl import load_workbook\n",
    "from openpyxl.formatting.rule import DataBarRule\n",
    "\n",
    "# Conditional formatting\n",
    "wb = load_workbook('eighteen.xlsx')\n",
    "rule_g = DataBarRule(start_type='percentile', start_value=10, end_type='percentile', end_value='90',\n",
    "                     color='FF63C384', showValue='None', minLength=None, maxLength=None)\n",
    "rule_b = DataBarRule(start_type='percentile', start_value=10, end_type='percentile', end_value='90',\n",
    "                     color='FF638EC6', showValue='None', minLength=None, maxLength=None)\n",
    "wb['總表'].conditional_formatting.add('B2:B16', rule_g)\n",
    "for i, ctry in enumerate(wb.get_sheet_names()[1:]):\n",
    "    n_product = summary['冠軍產品數'].values[i]\n",
    "    wb[ctry].conditional_formatting.add('H2:H{}'.format(n_product + 1), rule_g)\n",
    "    wb[ctry].conditional_formatting.add('G2:G{}'.format(n_product + 1), rule_b)\n",
    "wb.save('eighteen.xlsx')"
   ]
  }
 ],
 "metadata": {
  "kernelspec": {
   "display_name": "Python [conda root]",
   "language": "python",
   "name": "conda-root-py"
  },
  "language_info": {
   "codemirror_mode": {
    "name": "ipython",
    "version": 3
   },
   "file_extension": ".py",
   "mimetype": "text/x-python",
   "name": "python",
   "nbconvert_exporter": "python",
   "pygments_lexer": "ipython3",
   "version": "3.5.2"
  }
 },
 "nbformat": 4,
 "nbformat_minor": 1
}
