{
 "cells": [
  {
   "cell_type": "markdown",
   "metadata": {},
   "source": [
    "# Competitiveness Analysis (by Country and Product)"
   ]
  },
  {
   "cell_type": "markdown",
   "metadata": {},
   "source": [
    "## Part 1: Loading Data"
   ]
  },
  {
   "cell_type": "code",
   "execution_count": 1,
   "metadata": {
    "collapsed": false
   },
   "outputs": [],
   "source": [
    "import os\n",
    "import pandas as pd\n",
    "\n",
    "path = '//172.20.23.190/ds/Raw Data/2016大數爬蟲案/data/ITC HS4/all/'\n",
    "files = pd.Series(os.listdir(path))\n",
    "# Filter for import data\n",
    "files = files[files.str.contains('_I')]"
   ]
  },
  {
   "cell_type": "code",
   "execution_count": 2,
   "metadata": {
    "collapsed": false
   },
   "outputs": [],
   "source": [
    "from functools import reduce\n",
    "\n",
    "df_map = map(lambda f: pd.read_csv(path + f, index_col=0,\n",
    "                                   dtype={'Country': 'object',\n",
    "                                          'Product Code': 'object',\n",
    "                                          'Partner': 'object',\n",
    "                                          'Value in 2001': 'float',\n",
    "                                          'Value in 2002': 'float',\n",
    "                                          'Value in 2003': 'float',\n",
    "                                          'Value in 2004': 'float',\n",
    "                                          'Value in 2005': 'float',\n",
    "                                          'Value in 2006': 'float',\n",
    "                                          'Value in 2007': 'float',\n",
    "                                          'Value in 2008': 'float',\n",
    "                                          'Value in 2009': 'float',\n",
    "                                          'Value in 2010': 'float',\n",
    "                                          'Value in 2011': 'float',\n",
    "                                          'Value in 2012': 'float',\n",
    "                                          'Value in 2013': 'float',\n",
    "                                          'Value in 2014': 'float',\n",
    "                                          'Value in 2015': 'float'}), files)\n",
    "df = reduce(lambda x, y: pd.concat([x, y], axis=0, ignore_index=True), df_map)"
   ]
  },
  {
   "cell_type": "code",
   "execution_count": 3,
   "metadata": {
    "collapsed": false
   },
   "outputs": [
    {
     "name": "stdout",
     "output_type": "stream",
     "text": [
      "<class 'pandas.core.frame.DataFrame'>\n",
      "RangeIndex: 62410872 entries, 0 to 62410871\n",
      "Data columns (total 18 columns):\n",
      "Country          object\n",
      "Product Code     object\n",
      "Partner          object\n",
      "Value in 2001    float64\n",
      "Value in 2002    float64\n",
      "Value in 2003    float64\n",
      "Value in 2004    float64\n",
      "Value in 2005    float64\n",
      "Value in 2006    float64\n",
      "Value in 2007    float64\n",
      "Value in 2008    float64\n",
      "Value in 2009    float64\n",
      "Value in 2010    float64\n",
      "Value in 2011    float64\n",
      "Value in 2012    float64\n",
      "Value in 2013    float64\n",
      "Value in 2014    float64\n",
      "Value in 2015    float64\n",
      "dtypes: float64(15), object(3)\n",
      "memory usage: 8.4+ GB\n",
      "None\n"
     ]
    }
   ],
   "source": [
    "print(df.info())"
   ]
  },
  {
   "cell_type": "markdown",
   "metadata": {},
   "source": [
    "## Part 2: Preprocessing"
   ]
  },
  {
   "cell_type": "code",
   "execution_count": 4,
   "metadata": {
    "collapsed": false
   },
   "outputs": [],
   "source": [
    "# Remove the leading single quote (') in product code column\n",
    "df['Product Code'] = df['Product Code'].apply(lambda x: x[1:])\n",
    "# Remove rows for commodities sum and Taiwan as importer\n",
    "df = df[(df['Product Code'] != 'TOTAL') & (df['Country'] != 'Taipei, Chinese')]\n",
    "# Remove rows where partner is 'All'\n",
    "df = df[df['Partner'] != 'All']\n",
    "# Select only columns for 2012 to 2015\n",
    "df = pd.concat((df.loc[:, :'Partner'], df.loc[:, 'Value in 2012':]), axis=1)\n",
    "df.columns = ['country', 'product', 'partner', 'val12', 'val13', 'val14', 'val15']\n",
    "# Compute growth rates\n",
    "def growthRate(data, start_year, end_year):\n",
    "    return (data['val' + str(end_year)] - data['val' + str(start_year)]) /\\\n",
    "           data['val' + str(start_year)] * 100\n",
    "df['g13'] = growthRate(df, 12, 13)\n",
    "df['g14'] = growthRate(df, 13, 14)\n",
    "df['g15'] = growthRate(df, 14, 15)"
   ]
  },
  {
   "cell_type": "code",
   "execution_count": 5,
   "metadata": {
    "collapsed": false
   },
   "outputs": [],
   "source": [
    "# Remove HS6 rows\n",
    "df = df[df['product'].apply(len) == 4]"
   ]
  },
  {
   "cell_type": "code",
   "execution_count": 6,
   "metadata": {
    "collapsed": false
   },
   "outputs": [],
   "source": [
    "# Compute total imports for all (country, product) pairs\n",
    "total = df.groupby(['country', 'product']).agg({\n",
    "        'val12': 'sum',\n",
    "        'val13': 'sum',\n",
    "        'val14': 'sum',\n",
    "        'val15': 'sum'})\n",
    "total['g13'] = growthRate(total, 12, 13)\n",
    "total['g14'] = growthRate(total, 13, 14)\n",
    "total['g15'] = growthRate(total, 14, 15)\n",
    "total = total[['val15', 'g13', 'g14', 'g15']].reset_index()"
   ]
  },
  {
   "cell_type": "code",
   "execution_count": 7,
   "metadata": {
    "collapsed": false
   },
   "outputs": [],
   "source": [
    "import numpy as np\n",
    "\n",
    "# Compute commodity-wise market share for each partner country\n",
    "df['share'] = df['val15'] / df.groupby(['country', 'product'])['val15'].transform('sum') * 100\n",
    "# Compute commodity-wise rank for each partner country\n",
    "df['rank'] = df.groupby(['country', 'product'])['val15'].rank(ascending=False, method='min')\n",
    "\n",
    "# Compute no. of non-zero partners for each importing country by commodity\n",
    "n_partner = df[(df['val15'] != 0) & (df['val15'].notnull())].groupby(\n",
    "    ['country', 'product']).agg({'partner': 'count'}).rename(columns={'partner': 'n_partner'})\n",
    "# Compute Pearson's median skewness coefficient for each country by commodity\n",
    "skewness = df.groupby(['country', 'product']).agg(\n",
    "    {'val15': lambda x: 3 * (x.mean() - x.median()) / x.std() if x.std() != 0 else np.nan}).rename(\n",
    "    columns={'val15': 'skew'})"
   ]
  },
  {
   "cell_type": "code",
   "execution_count": 8,
   "metadata": {
    "collapsed": false
   },
   "outputs": [],
   "source": [
    "# Extract data for Taiwan\n",
    "tw = df.loc[df['partner'] == 'Taipei, Chinese',\n",
    "            ['country', 'product', 'val15', 'g13', 'g14', 'g15', 'share', 'rank']]\n",
    "tw.columns = ['country', 'product', 'tw_val15', 'tw_g13', 'tw_g14', 'tw_g15', 'tw_share', 'tw_rank']\n",
    "\n",
    "# Extract data for top 3\n",
    "top3 = df.groupby(['country', 'product']).apply(lambda x: x.nsmallest(3, 'rank')).loc[\n",
    "    :, ['country', 'product', 'partner', 'val15', 'g13', 'g14', 'g15', 'share']]\n",
    "\n",
    "def getCountryByRank(data, rank):\n",
    "    rs = data.groupby(['country', 'product']).nth(rank).reset_index().reset_index().loc[\n",
    "    :, ['country', 'product', 'partner', 'val15', 'g13', 'g14', 'g15', 'share']]\n",
    "    rs.columns = ['country', 'product', 'partner'] +\\\n",
    "    [str(rank + 1) + '_' + x for x in ['val15', 'g13', 'g14', 'g15', 'share']]\n",
    "    return rs\n",
    "\n",
    "first  = getCountryByRank(top3, 0)\n",
    "second = getCountryByRank(top3, 1)\n",
    "third  = getCountryByRank(top3, 2)"
   ]
  },
  {
   "cell_type": "code",
   "execution_count": 9,
   "metadata": {
    "collapsed": false
   },
   "outputs": [],
   "source": [
    "import re\n",
    "from io import StringIO\n",
    "\n",
    "# Load product description file\n",
    "path_desc = 'C:/Users/2093/Desktop/Data Center/03. Data/01. HS_code/customs/\\\n",
    "稅則貨名檔(八碼)_最後更新時間 2017-02-07/note_8_C.txt'\n",
    "with open(path_desc, encoding='utf-8') as f:\n",
    "    txt = f.read()\n",
    "# Handle some parsing issues\n",
    "txt = re.sub(r'(\\d)[ ]+', r'\\1 ', txt)\n",
    "txt = re.sub(r',', '，', txt)\n",
    "txt = re.sub(r'(\\D)[ ]+', r'\\1', txt)\n",
    "txt = re.sub(r'HS_NONOTE', r'HS_NO NOTE', txt)\n",
    "desc = pd.read_csv(StringIO(txt), sep=' ', header=0, names=['product', 'desc'])"
   ]
  },
  {
   "cell_type": "code",
   "execution_count": 10,
   "metadata": {
    "collapsed": false
   },
   "outputs": [],
   "source": [
    "# Merge all tables\n",
    "rs = total.merge(n_partner, how='left', left_on=['country', 'product'], right_index=True).merge(\n",
    "    skewness, how='left', left_on=['country', 'product'], right_index=True).merge(\n",
    "    tw, how='left', on=['country', 'product']).merge(\n",
    "    first, how='left', on=['country', 'product']).rename(columns={'partner': '1_name'}).merge(\n",
    "    second, how='left', on=['country', 'product']).rename(columns={'partner': '2_name'}).merge(\n",
    "    third, how='left', on=['country', 'product']).rename(columns={'partner': '3_name'}).merge(\n",
    "    desc, how='left', on='product').iloc[:, [0, 1, -1] + list(range(2, 32))]\n",
    "# Output results\n",
    "rs.to_csv('comp_aggregate.csv', sep=',', index=False)"
   ]
  },
  {
   "cell_type": "markdown",
   "metadata": {},
   "source": [
    "## Part 3: Statistical Exploratory Data Analysis"
   ]
  },
  {
   "cell_type": "markdown",
   "metadata": {},
   "source": [
    "#### Some outdated product codes that are not found in MOF's product list:"
   ]
  },
  {
   "cell_type": "code",
   "execution_count": 11,
   "metadata": {
    "collapsed": false,
    "scrolled": true
   },
   "outputs": [
    {
     "name": "stdout",
     "output_type": "stream",
     "text": [
      "['0503', '0509', '1402', '1403', '2527', '2838', '2848', '2851', '4108', '4109', '4110', '4111', '4204', '4815', '5304', '6503', '6908', '7012', '7414', '7416', '7417', '7803', '7805', '7906', '8004', '8005', '8006', '8469', '8485', '8520', '8524', '9009', '9203', '9204', '9501', '9502', '9999']\n"
     ]
    }
   ],
   "source": [
    "print(sorted(rs[rs['desc'].isnull()]['product'].unique()))"
   ]
  },
  {
   "cell_type": "markdown",
   "metadata": {},
   "source": [
    "#### Products with highest average degree of competition:"
   ]
  },
  {
   "cell_type": "code",
   "execution_count": 12,
   "metadata": {
    "collapsed": false
   },
   "outputs": [
    {
     "data": {
      "text/html": [
       "<div>\n",
       "<table border=\"1\" class=\"dataframe\">\n",
       "  <thead>\n",
       "    <tr style=\"text-align: right;\">\n",
       "      <th></th>\n",
       "      <th>n_partner</th>\n",
       "      <th>skew</th>\n",
       "    </tr>\n",
       "    <tr>\n",
       "      <th>desc</th>\n",
       "      <th></th>\n",
       "      <th></th>\n",
       "    </tr>\n",
       "  </thead>\n",
       "  <tbody>\n",
       "    <tr>\n",
       "      <th>其他塑膠製品及第３９０１至３９１４節之材料製成品</th>\n",
       "      <td>38.025641</td>\n",
       "      <td>0.511484</td>\n",
       "    </tr>\n",
       "    <tr>\n",
       "      <th>電話機，包括蜂巢式網路或其他無線網路電話；其他傳輸或接收聲音、圖像或其他資料之器具，包括有線或無線網路（如區域或廣域網路）之通訊器具，但不包括第8443，8525，8527或8528節之傳輸或接收器具</th>\n",
       "      <td>37.605150</td>\n",
       "      <td>0.468829</td>\n",
       "    </tr>\n",
       "    <tr>\n",
       "      <th>電路開關、保護電路或連接電路用之電氣用具（例如：開關、繼電器、熔絲裝置、突波遏止器、插頭、插座、燈頭及其他連接器、接線盒），其電壓未超過１０００伏特者；光纖、光纖束、光纖電纜或光纖傳輸纜用之連接器</th>\n",
       "      <td>35.910638</td>\n",
       "      <td>0.497108</td>\n",
       "    </tr>\n",
       "    <tr>\n",
       "      <th>自動資料處理機及其附屬單元；磁性或光學閱讀機，以符號方式將資料轉錄於資料媒體之機器及處理此類資料之未列名機器</th>\n",
       "      <td>35.683761</td>\n",
       "      <td>0.461736</td>\n",
       "    </tr>\n",
       "    <tr>\n",
       "      <th>第８７０１至８７０５節機動車輛所用之零件及附件</th>\n",
       "      <td>35.470339</td>\n",
       "      <td>0.488684</td>\n",
       "    </tr>\n",
       "  </tbody>\n",
       "</table>\n",
       "</div>"
      ],
      "text/plain": [
       "                                                    n_partner      skew\n",
       "desc                                                                   \n",
       "其他塑膠製品及第３９０１至３９１４節之材料製成品                            38.025641  0.511484\n",
       "電話機，包括蜂巢式網路或其他無線網路電話；其他傳輸或接收聲音、圖像或其他資料之器具，包括有線或...  37.605150  0.468829\n",
       "電路開關、保護電路或連接電路用之電氣用具（例如：開關、繼電器、熔絲裝置、突波遏止器、插頭、插座...  35.910638  0.497108\n",
       "自動資料處理機及其附屬單元；磁性或光學閱讀機，以符號方式將資料轉錄於資料媒體之機器及處理此類資...  35.683761  0.461736\n",
       "第８７０１至８７０５節機動車輛所用之零件及附件                             35.470339  0.488684"
      ]
     },
     "execution_count": 12,
     "metadata": {},
     "output_type": "execute_result"
    }
   ],
   "source": [
    "rs.groupby('desc').agg({'n_partner': 'mean', 'skew': 'mean'}).sort_values(\n",
    "    'n_partner', ascending=False).head()"
   ]
  },
  {
   "cell_type": "markdown",
   "metadata": {},
   "source": [
    "#### Products with lowest average degree of competition:"
   ]
  },
  {
   "cell_type": "code",
   "execution_count": 13,
   "metadata": {
    "collapsed": false
   },
   "outputs": [
    {
     "data": {
      "text/html": [
       "<div>\n",
       "<table border=\"1\" class=\"dataframe\">\n",
       "  <thead>\n",
       "    <tr style=\"text-align: right;\">\n",
       "      <th></th>\n",
       "      <th>n_partner</th>\n",
       "      <th>skew</th>\n",
       "    </tr>\n",
       "    <tr>\n",
       "      <th>desc</th>\n",
       "      <th></th>\n",
       "      <th></th>\n",
       "    </tr>\n",
       "  </thead>\n",
       "  <tbody>\n",
       "    <tr>\n",
       "      <th>鈾或釷礦石及其精砂</th>\n",
       "      <td>1.454545</td>\n",
       "      <td>0.403716</td>\n",
       "    </tr>\n",
       "    <tr>\n",
       "      <th>經拉鬆處理之回收羊毛或動物粗細毛</th>\n",
       "      <td>1.500000</td>\n",
       "      <td>0.324049</td>\n",
       "    </tr>\n",
       "    <tr>\n",
       "      <th>鈷礦石及其精砂</th>\n",
       "      <td>1.684211</td>\n",
       "      <td>0.305355</td>\n",
       "    </tr>\n",
       "    <tr>\n",
       "      <th>乾椰子肉</th>\n",
       "      <td>1.734694</td>\n",
       "      <td>0.421047</td>\n",
       "    </tr>\n",
       "    <tr>\n",
       "      <th>石棉</th>\n",
       "      <td>1.864198</td>\n",
       "      <td>0.320217</td>\n",
       "    </tr>\n",
       "  </tbody>\n",
       "</table>\n",
       "</div>"
      ],
      "text/plain": [
       "                  n_partner      skew\n",
       "desc                                 \n",
       "鈾或釷礦石及其精砂          1.454545  0.403716\n",
       "經拉鬆處理之回收羊毛或動物粗細毛   1.500000  0.324049\n",
       "鈷礦石及其精砂            1.684211  0.305355\n",
       "乾椰子肉               1.734694  0.421047\n",
       "石棉                 1.864198  0.320217"
      ]
     },
     "execution_count": 13,
     "metadata": {},
     "output_type": "execute_result"
    }
   ],
   "source": [
    "rs.groupby('desc').agg({'n_partner': 'mean', 'skew': 'mean'}).sort_values('n_partner').head()"
   ]
  },
  {
   "cell_type": "markdown",
   "metadata": {},
   "source": [
    "#### Countries with highest \"import diversity\":"
   ]
  },
  {
   "cell_type": "code",
   "execution_count": 14,
   "metadata": {
    "collapsed": false
   },
   "outputs": [
    {
     "data": {
      "text/html": [
       "<div>\n",
       "<table border=\"1\" class=\"dataframe\">\n",
       "  <thead>\n",
       "    <tr style=\"text-align: right;\">\n",
       "      <th></th>\n",
       "      <th>n_partner</th>\n",
       "    </tr>\n",
       "    <tr>\n",
       "      <th>country</th>\n",
       "      <th></th>\n",
       "    </tr>\n",
       "  </thead>\n",
       "  <tbody>\n",
       "    <tr>\n",
       "      <th>Netherlands</th>\n",
       "      <td>50.762100</td>\n",
       "    </tr>\n",
       "    <tr>\n",
       "      <th>Germany</th>\n",
       "      <td>44.414333</td>\n",
       "    </tr>\n",
       "    <tr>\n",
       "      <th>France</th>\n",
       "      <td>39.927347</td>\n",
       "    </tr>\n",
       "    <tr>\n",
       "      <th>United Kingdom</th>\n",
       "      <td>37.481451</td>\n",
       "    </tr>\n",
       "    <tr>\n",
       "      <th>Belgium</th>\n",
       "      <td>36.840099</td>\n",
       "    </tr>\n",
       "  </tbody>\n",
       "</table>\n",
       "</div>"
      ],
      "text/plain": [
       "                n_partner\n",
       "country                  \n",
       "Netherlands     50.762100\n",
       "Germany         44.414333\n",
       "France          39.927347\n",
       "United Kingdom  37.481451\n",
       "Belgium         36.840099"
      ]
     },
     "execution_count": 14,
     "metadata": {},
     "output_type": "execute_result"
    }
   ],
   "source": [
    "rs.groupby('country').agg({'n_partner': 'mean'}).sort_values('n_partner', ascending=False).head()"
   ]
  },
  {
   "cell_type": "markdown",
   "metadata": {},
   "source": [
    "#### Countries with lowest \"import diversity\":"
   ]
  },
  {
   "cell_type": "code",
   "execution_count": 15,
   "metadata": {
    "collapsed": false
   },
   "outputs": [
    {
     "data": {
      "text/html": [
       "<div>\n",
       "<table border=\"1\" class=\"dataframe\">\n",
       "  <thead>\n",
       "    <tr style=\"text-align: right;\">\n",
       "      <th></th>\n",
       "      <th>n_partner</th>\n",
       "    </tr>\n",
       "    <tr>\n",
       "      <th>country</th>\n",
       "      <th></th>\n",
       "    </tr>\n",
       "  </thead>\n",
       "  <tbody>\n",
       "    <tr>\n",
       "      <th>Guinea-Bissau</th>\n",
       "      <td>1.0</td>\n",
       "    </tr>\n",
       "    <tr>\n",
       "      <th>Mali</th>\n",
       "      <td>1.0</td>\n",
       "    </tr>\n",
       "    <tr>\n",
       "      <th>Caribbean Nes</th>\n",
       "      <td>1.0</td>\n",
       "    </tr>\n",
       "    <tr>\n",
       "      <th>Mauritania</th>\n",
       "      <td>1.0</td>\n",
       "    </tr>\n",
       "    <tr>\n",
       "      <th>Serbia and Montenegro</th>\n",
       "      <td>1.0</td>\n",
       "    </tr>\n",
       "  </tbody>\n",
       "</table>\n",
       "</div>"
      ],
      "text/plain": [
       "                       n_partner\n",
       "country                         \n",
       "Guinea-Bissau                1.0\n",
       "Mali                         1.0\n",
       "Caribbean Nes                1.0\n",
       "Mauritania                   1.0\n",
       "Serbia and Montenegro        1.0"
      ]
     },
     "execution_count": 15,
     "metadata": {},
     "output_type": "execute_result"
    }
   ],
   "source": [
    "rs.groupby('country').agg({'n_partner': 'mean'}).sort_values('n_partner', ascending=True).head()"
   ]
  }
 ],
 "metadata": {
  "anaconda-cloud": {},
  "kernelspec": {
   "display_name": "Python [conda root]",
   "language": "python",
   "name": "conda-root-py"
  },
  "language_info": {
   "codemirror_mode": {
    "name": "ipython",
    "version": 3
   },
   "file_extension": ".py",
   "mimetype": "text/x-python",
   "name": "python",
   "nbconvert_exporter": "python",
   "pygments_lexer": "ipython3",
   "version": "3.5.2"
  }
 },
 "nbformat": 4,
 "nbformat_minor": 1
}
