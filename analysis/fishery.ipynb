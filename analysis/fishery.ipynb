{
 "cells": [
  {
   "cell_type": "markdown",
   "metadata": {},
   "source": [
    "# Fishery Show Analysis"
   ]
  },
  {
   "cell_type": "code",
   "execution_count": 1,
   "metadata": {
    "collapsed": false
   },
   "outputs": [],
   "source": [
    "import sys\n",
    "sys.path.append('C:/Users/2093/Documents/GitHub/TradeModel/tools/')\n",
    "import reader as rd\n",
    "import pandas as pd\n",
    "\n",
    "path = 'C:/Users/2093/Desktop/Data Center/03. Data/05. TAITRA/CRM/'\n",
    "\n",
    "# Company profile\n",
    "tax = pd.read_csv(path + 'tax_utf-8.csv', header=0, index_col=False,\n",
    "                  names=['bogus', 'address', 'id', 'com_name', 'capital', 'est_date', 'invoice',\n",
    "                         'biz1_id', 'biz1', 'biz2_id', 'biz2', 'biz3_id', 'biz3',\n",
    "                         'biz4_id', 'biz4'],\n",
    "                  dtype={'bogus': str,\n",
    "                         'address': str,\n",
    "                         'id': str,\n",
    "                         'com_name': str,\n",
    "                         'capital': int,\n",
    "                         'est_date': int,\n",
    "                         'invoice': str,\n",
    "                         'biz1_id': str,\n",
    "                         'biz1': str,\n",
    "                         'biz2_id': str,\n",
    "                         'biz2': str,\n",
    "                         'biz3_id': str,\n",
    "                         'biz3': str,\n",
    "                         'biz4_id': str,\n",
    "                         'biz4': str})\n",
    "tax.set_index('id', inplace=True)\n",
    "# Company trade data\n",
    "trade = rd.read_company_trade()\n",
    "# Events\n",
    "event = pd.read_csv(path + 'crm_group.csv', usecols=range(4), header=0,\n",
    "                    names=['year', 'event_name', 'source', 'event_id'])\n",
    "# Event attendance\n",
    "attend = pd.read_csv(path + 'crm_basic_group.csv', usecols=range(2), header=0,\n",
    "                     names=['event_id', 'bogus'])\n",
    "# Product descriptions\n",
    "desc = rd.read_product_desc()\n",
    "# Country codes\n",
    "country = rd.read_country_code()"
   ]
  },
  {
   "cell_type": "markdown",
   "metadata": {},
   "source": [
    "#### 漁業相關活動："
   ]
  },
  {
   "cell_type": "code",
   "execution_count": 2,
   "metadata": {
    "collapsed": false
   },
   "outputs": [
    {
     "name": "stdout",
     "output_type": "stream",
     "text": [
      "697                                 2016台灣國際漁業展一對一採購會(高雄)\n",
      "762                                2016年臺灣國際漁業展(高雄)(自辦業務)\n",
      "763                              高雄-2016年澎湖農漁產品國際採購洽談會供應商\n",
      "765                    高雄-2016年屏東熱帶水果水產及加工品採購洽談會供應商(4月-漁)\n",
      "1456                                     2015年台灣國際漁業展(高雄)\n",
      "2038                                 台南-2014小農漁民出頭天，品牌大未來\n",
      "3173    宏都拉斯廠商擬對台採購台灣製造之 咖啡烘乾及包裝設備/漁產箱網養殖設備/牛肉冷凍設備/自行車...\n",
      "3269    宏都拉斯廠商擬對台銷售 咖啡/漁產/棕櫚油/牛肉/觀賞性植物/棉織品/汽車電子組件。歡迎有興...\n",
      "Name: event_name, dtype: object\n"
     ]
    }
   ],
   "source": [
    "print(event['event_name'][event['event_name'].str.contains('漁')])\n",
    "ind = event['event_name'][event['event_name'].str.contains('國際漁業展\\(高雄\\)')].index.values"
   ]
  },
  {
   "cell_type": "markdown",
   "metadata": {},
   "source": [
    "#### 分析目標："
   ]
  },
  {
   "cell_type": "code",
   "execution_count": 3,
   "metadata": {
    "collapsed": false
   },
   "outputs": [
    {
     "name": "stdout",
     "output_type": "stream",
     "text": [
      "+------+--------+--------------------------------------+--------------------------+------------+\n",
      "|      |   year | event_name                           | source                   | event_id   |\n",
      "|------+--------+--------------------------------------+--------------------------+------------|\n",
      "|  762 |   2016 | 2016年臺灣國際漁業展(高雄)(自辦業務) | J國內專業展-CRM_FMSPROFM | J201600045 |\n",
      "| 1456 |   2015 | 2015年台灣國際漁業展(高雄)           | J國內專業展-CRM_FMSPROFM | J201500045 |\n",
      "+------+--------+--------------------------------------+--------------------------+------------+\n"
     ]
    }
   ],
   "source": [
    "from tabulate import tabulate\n",
    "\n",
    "print(tabulate(event.iloc[ind, :], headers='keys', tablefmt='psql'))\n",
    "event_id = event.ix[ind, 'event_id'].values"
   ]
  },
  {
   "cell_type": "code",
   "execution_count": 4,
   "metadata": {
    "collapsed": false
   },
   "outputs": [],
   "source": [
    "bogus15 = attend[attend['event_id'] == event_id[1]]['bogus'].values\n",
    "bogus16 = attend[attend['event_id'] == event_id[0]]['bogus'].values"
   ]
  },
  {
   "cell_type": "markdown",
   "metadata": {},
   "source": [
    "#### 2015年、2016年參展商家數："
   ]
  },
  {
   "cell_type": "code",
   "execution_count": 5,
   "metadata": {
    "collapsed": false
   },
   "outputs": [
    {
     "name": "stdout",
     "output_type": "stream",
     "text": [
      "2015年：167家\n",
      "2016年：133家\n",
      "不重複參展商家數：226家\n"
     ]
    }
   ],
   "source": [
    "id15 = tax[tax['bogus'].apply(lambda x: x in bogus15)].index\n",
    "id16 = tax[tax['bogus'].apply(lambda x: x in bogus16)].index\n",
    "ids  = list(set(id15) | set(id16))\n",
    "print('2015年：{}家\\n2016年：{}家'.format(len(id15), len(id16)))\n",
    "print('不重複參展商家數：{}家'.format(len(ids)))"
   ]
  },
  {
   "cell_type": "markdown",
   "metadata": {},
   "source": [
    "#### 臺灣漁網出口國家："
   ]
  },
  {
   "cell_type": "code",
   "execution_count": 6,
   "metadata": {
    "collapsed": false
   },
   "outputs": [
    {
     "data": {
      "text/plain": [
       "<matplotlib.figure.Figure at 0x481c5c18>"
      ]
     },
     "metadata": {},
     "output_type": "display_data"
    },
    {
     "data": {
      "image/png": "[encoded data removed]",
      "text/plain": [
       "<matplotlib.figure.Figure at 0x3c454f98>"
      ]
     },
     "metadata": {},
     "output_type": "display_data"
    }
   ],
   "source": [
    "import matplotlib.pyplot as plt\n",
    "\n",
    "net = '560811' \n",
    "net = trade.loc['2015'].query('code == @net').groupby('country').agg({'ex': 'sum', 'ban': 'nunique'}\n",
    "    ).merge(country, how='left', left_index=True, right_on='code').sort_values(\n",
    "    'ex', ascending=False).head(10).sort_values('ex', ascending=True)\n",
    "\n",
    "plt.clf()\n",
    "fig, axes = plt.subplots(nrows=1, ncols=2)\n",
    "net[['country', 'ex']].plot(ax=axes[0], kind='barh', x='country', align='center')\n",
    "net[['country', 'ban']].plot(ax=axes[1], kind='barh', align='center')\n",
    "plt.suptitle('2015年漁網(560811)10大出口國', x=0.59, y=1.01)\n",
    "axes[0].invert_xaxis()\n",
    "axes[0].set_ylabel('國家')\n",
    "axes[0].legend(['出口額(10萬美元)'], loc='lower left')\n",
    "axes[1].legend(['出口商家數'], loc='upper right')\n",
    "\n",
    "axes[1].yaxis.set_ticklabels([])\n",
    "plt.tight_layout()\n",
    "plt.show()"
   ]
  },
  {
   "cell_type": "markdown",
   "metadata": {},
   "source": [
    "#### 單看出口商數的情況："
   ]
  },
  {
   "cell_type": "code",
   "execution_count": 7,
   "metadata": {
    "collapsed": false
   },
   "outputs": [
    {
     "data": {
      "text/plain": [
       "<matplotlib.figure.Figure at 0x90d12e8>"
      ]
     },
     "metadata": {},
     "output_type": "display_data"
    },
    {
     "data": {
      "image/png": "[encoded data removed]",
      "text/plain": [
       "<matplotlib.figure.Figure at 0x481c5208>"
      ]
     },
     "metadata": {},
     "output_type": "display_data"
    }
   ],
   "source": [
    "plt.clf()\n",
    "trade.loc['2015'].query('code == \"560811\"').groupby('country').agg({'ban': 'nunique'}).merge(\n",
    "    country, how='left', left_index=True, right_on='code').sort_values(\n",
    "    'ban', ascending=False).head(20)[['country', 'ban']].plot(kind='bar', x='country',\n",
    "    title='2015年銷售漁網至各國之出口商數')\n",
    "plt.legend(['出口商數'])\n",
    "plt.xlabel('國家')\n",
    "plt.show()"
   ]
  },
  {
   "cell_type": "code",
   "execution_count": 8,
   "metadata": {
    "collapsed": true
   },
   "outputs": [],
   "source": [
    "ex = trade.loc['2015']\n",
    "ex = ex[ex['ban'].apply(lambda x: x in ids)]"
   ]
  },
  {
   "cell_type": "code",
   "execution_count": 9,
   "metadata": {
    "collapsed": false,
    "scrolled": true
   },
   "outputs": [
    {
     "data": {
      "text/html": [
       "<div>\n",
       "<table border=\"1\" class=\"dataframe\">\n",
       "  <thead>\n",
       "    <tr style=\"text-align: right;\">\n",
       "      <th></th>\n",
       "      <th>desc</th>\n",
       "      <th>product</th>\n",
       "      <th>n_company</th>\n",
       "    </tr>\n",
       "  </thead>\n",
       "  <tbody>\n",
       "    <tr>\n",
       "      <th>16881</th>\n",
       "      <td>NaN</td>\n",
       "      <td>989900</td>\n",
       "      <td>140</td>\n",
       "    </tr>\n",
       "    <tr>\n",
       "      <th>6741</th>\n",
       "      <td>其他</td>\n",
       "      <td>392690</td>\n",
       "      <td>56</td>\n",
       "    </tr>\n",
       "    <tr>\n",
       "      <th>11942</th>\n",
       "      <td>其他</td>\n",
       "      <td>732690</td>\n",
       "      <td>36</td>\n",
       "    </tr>\n",
       "    <tr>\n",
       "      <th>14431</th>\n",
       "      <td>靜電式變流器</td>\n",
       "      <td>850440</td>\n",
       "      <td>28</td>\n",
       "    </tr>\n",
       "    <tr>\n",
       "      <th>14172</th>\n",
       "      <td>零件</td>\n",
       "      <td>847990</td>\n",
       "      <td>27</td>\n",
       "    </tr>\n",
       "    <tr>\n",
       "      <th>12989</th>\n",
       "      <td>泵</td>\n",
       "      <td>841381</td>\n",
       "      <td>25</td>\n",
       "    </tr>\n",
       "    <tr>\n",
       "      <th>15143</th>\n",
       "      <td>裝有插接器者</td>\n",
       "      <td>854442</td>\n",
       "      <td>25</td>\n",
       "    </tr>\n",
       "    <tr>\n",
       "      <th>567</th>\n",
       "      <td>其他</td>\n",
       "      <td>030389</td>\n",
       "      <td>24</td>\n",
       "    </tr>\n",
       "    <tr>\n",
       "      <th>6973</th>\n",
       "      <td>密合墊、墊圈及其他封密物</td>\n",
       "      <td>401693</td>\n",
       "      <td>23</td>\n",
       "    </tr>\n",
       "    <tr>\n",
       "      <th>13020</th>\n",
       "      <td>其他</td>\n",
       "      <td>841480</td>\n",
       "      <td>23</td>\n",
       "    </tr>\n",
       "    <tr>\n",
       "      <th>14971</th>\n",
       "      <td>其他器具</td>\n",
       "      <td>853690</td>\n",
       "      <td>22</td>\n",
       "    </tr>\n",
       "    <tr>\n",
       "      <th>16881</th>\n",
       "      <td>NaN</td>\n",
       "      <td>382490</td>\n",
       "      <td>21</td>\n",
       "    </tr>\n",
       "    <tr>\n",
       "      <th>14952</th>\n",
       "      <td>其他開關</td>\n",
       "      <td>853650</td>\n",
       "      <td>21</td>\n",
       "    </tr>\n",
       "    <tr>\n",
       "      <th>14162</th>\n",
       "      <td>其他</td>\n",
       "      <td>847989</td>\n",
       "      <td>21</td>\n",
       "    </tr>\n",
       "    <tr>\n",
       "      <th>13192</th>\n",
       "      <td>其他</td>\n",
       "      <td>842199</td>\n",
       "      <td>21</td>\n",
       "    </tr>\n",
       "    <tr>\n",
       "      <th>14207</th>\n",
       "      <td>其他用具</td>\n",
       "      <td>848180</td>\n",
       "      <td>20</td>\n",
       "    </tr>\n",
       "    <tr>\n",
       "      <th>11835</th>\n",
       "      <td>其他螺釘及螺栓，有否附螺帽及墊圈均在內</td>\n",
       "      <td>731815</td>\n",
       "      <td>20</td>\n",
       "    </tr>\n",
       "    <tr>\n",
       "      <th>14978</th>\n",
       "      <td>電壓未超過１０００伏特者</td>\n",
       "      <td>853710</td>\n",
       "      <td>19</td>\n",
       "    </tr>\n",
       "    <tr>\n",
       "      <th>13024</th>\n",
       "      <td>零件</td>\n",
       "      <td>841490</td>\n",
       "      <td>18</td>\n",
       "    </tr>\n",
       "    <tr>\n",
       "      <th>16496</th>\n",
       "      <td>其他電燈具及照明配件</td>\n",
       "      <td>940540</td>\n",
       "      <td>18</td>\n",
       "    </tr>\n",
       "  </tbody>\n",
       "</table>\n",
       "</div>"
      ],
      "text/plain": [
       "                      desc product  n_company\n",
       "16881                  NaN  989900        140\n",
       "6741                    其他  392690         56\n",
       "11942                   其他  732690         36\n",
       "14431               靜電式變流器  850440         28\n",
       "14172                   零件  847990         27\n",
       "12989                    泵  841381         25\n",
       "15143               裝有插接器者  854442         25\n",
       "567                     其他  030389         24\n",
       "6973          密合墊、墊圈及其他封密物  401693         23\n",
       "13020                   其他  841480         23\n",
       "14971                 其他器具  853690         22\n",
       "16881                  NaN  382490         21\n",
       "14952                 其他開關  853650         21\n",
       "14162                   其他  847989         21\n",
       "13192                   其他  842199         21\n",
       "14207                 其他用具  848180         20\n",
       "11835  其他螺釘及螺栓，有否附螺帽及墊圈均在內  731815         20\n",
       "14978         電壓未超過１０００伏特者  853710         19\n",
       "13024                   零件  841490         18\n",
       "16496           其他電燈具及照明配件  940540         18"
      ]
     },
     "execution_count": 9,
     "metadata": {},
     "output_type": "execute_result"
    }
   ],
   "source": [
    "ex[['ban', 'code']].drop_duplicates().groupby('code').agg({'ban': 'nunique'}).rename(\n",
    "    columns={'ban': 'n_company'}).merge(desc, how='left', left_index=True, right_on='product')[\n",
    "    ['desc', 'product', 'n_company']].sort_values('n_company', ascending=False).head(20)"
   ]
  }
 ],
 "metadata": {
  "kernelspec": {
   "display_name": "Python [conda root]",
   "language": "python",
   "name": "conda-root-py"
  },
  "language_info": {
   "codemirror_mode": {
    "name": "ipython",
    "version": 3
   },
   "file_extension": ".py",
   "mimetype": "text/x-python",
   "name": "python",
   "nbconvert_exporter": "python",
   "pygments_lexer": "ipython3",
   "version": "3.5.2"
  }
 },
 "nbformat": 4,
 "nbformat_minor": 1
}
