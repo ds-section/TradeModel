{
 "cells": [
  {
   "cell_type": "markdown",
   "metadata": {},
   "source": [
    "# Competitiveness of Taiwan Cycles (HS 871200)"
   ]
  },
  {
   "cell_type": "code",
   "execution_count": 1,
   "metadata": {
    "collapsed": false
   },
   "outputs": [],
   "source": [
    "import pandas as pd\n",
    "\n",
    "path = '//172.26.1.102/dstore/uncomtrade/annual/type-C_r-ALL_ps-2015_freq-A_px-HS_pub-20170213_fmt-csv_ex-20170226.csv'\n",
    "df = pd.read_csv(path, dtype={'Commodity Code': str})"
   ]
  },
  {
   "cell_type": "code",
   "execution_count": 2,
   "metadata": {
    "collapsed": true
   },
   "outputs": [],
   "source": [
    "product = '871200'\n",
    "cycle = df.loc[(df['Aggregate Level'] == 6) & (df['Trade Flow'] == 'Import') &\n",
    "               (df['Partner'] != 'World') & (df['Commodity Code'] == product),\n",
    "               ['Reporter', 'Partner', 'Commodity Code', 'Commodity', 'Trade Value (US$)']]\n",
    "cycle.columns = ['reporter', 'partner', 'code', 'commodity', 'val']\n",
    "# Total import of each reporter\n",
    "cycle['world'] = cycle.groupby('reporter')['val'].transform('sum')\n",
    "# Market share of each partner\n",
    "cycle['share'] = cycle['val'] / cycle['world'] * 100\n",
    "# Rank of each partner\n",
    "cycle['rank'] = cycle.groupby('reporter')['val'].rank(ascending=False, method='min')"
   ]
  },
  {
   "cell_type": "code",
   "execution_count": 3,
   "metadata": {
    "collapsed": false
   },
   "outputs": [],
   "source": [
    "cycle[cycle['partner'] == 'Other Asia, nes'].drop('partner', axis=1).sort_values(\n",
    "    ['rank', 'share'], ascending=[True, False]).rename(\n",
    "    columns={'reporter' : 'reporter 進口國',\n",
    "             'code'     : 'code 產品代碼',\n",
    "             'commodity': 'commodity 產品名稱',\n",
    "             'val'      : 'import_tw ($USD) 自臺進口額',\n",
    "             'world'    : 'import_world ($USD) 自全球進口額',\n",
    "             'share'    : 'market_share 臺灣自占率',\n",
    "             'rank'     : 'rank 臺灣排名'\n",
    "            }).to_csv('cycle_raw.csv', sep=',', index=False)"
   ]
  }
 ],
 "metadata": {
  "kernelspec": {
   "display_name": "Python [conda root]",
   "language": "python",
   "name": "conda-root-py"
  },
  "language_info": {
   "codemirror_mode": {
    "name": "ipython",
    "version": 3
   },
   "file_extension": ".py",
   "mimetype": "text/x-python",
   "name": "python",
   "nbconvert_exporter": "python",
   "pygments_lexer": "ipython3",
   "version": "3.5.2"
  }
 },
 "nbformat": 4,
 "nbformat_minor": 1
}
