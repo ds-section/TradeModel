{
 "cells": [
  {
   "cell_type": "markdown",
   "metadata": {},
   "source": [
    "# Network Analysis of International Trade Shows"
   ]
  },
  {
   "cell_type": "code",
   "execution_count": 1,
   "metadata": {
    "collapsed": true
   },
   "outputs": [],
   "source": [
    "import pandas as pd\n",
    "from unidecode import unidecode\n",
    "import string\n",
    "\n",
    "path = 'C:/Users/2093/Desktop/Data Center/03. Data/10. trade_shows/'\n",
    "\n",
    "# Exhibitor data\n",
    "exhr = pd.read_excel(path + 'Exhibitor_List_0117.xlsx',\n",
    "                     parse_cols='B,D:H,O,S',\n",
    "                     parse_date=['EXHIBITION_START_DATE', 'EXHIBITION_END_DATE'])\n",
    "exhr.columns = ['show', 'start_date', 'end_date', 'exhr', 'exhr_ctry', 'exhr_ctry_code', 'category',\n",
    "                'show_id']\n",
    "exhr['exhr'] = exhr['exhr'].astype(str)\n",
    "exhr['show_id'] = exhr['show_id'].astype(int)\n",
    "\n",
    "# Clean exhibitor country and company name columns\n",
    "exhr['exhr_ctry'] = exhr['exhr_ctry'].str.lower().str.strip().str.replace(' ', '').replace({\n",
    "    'cacada': 'canada',\n",
    "    'ivorycoast': \"coted'ivoire\",\n",
    "    'southkorea': 'korea',\n",
    "    'russianfederation': 'russia',\n",
    "    'serbiaandmontenegro': 'serbia'\n",
    "    })\n",
    "\n",
    "exhr['exhr_conv'] = exhr['exhr'].str.lower().str.strip().apply(lambda x: unidecode(x)).apply(\n",
    "    lambda x: x.translate(str.maketrans({key: None for key in string.punctuation}))).str.replace(\n",
    "    r'\\s+', r' ')\n",
    "pd.Series(' '.join(exhr['exhr_conv']).split(' ')).value_counts().head(20)\n",
    "\n",
    "exhr = exhr[exhr['start_date'].dt.year == 2016]"
   ]
  },
  {
   "cell_type": "code",
   "execution_count": 2,
   "metadata": {
    "collapsed": false
   },
   "outputs": [],
   "source": [
    "# All trade shows in 2016 with dates\n",
    "shows_16 = exhr[['show_id', 'start_date']].drop_duplicates().sort_values(\n",
    "    'start_date').reset_index(drop=True)\n",
    "\n",
    "# Build adjacency matrix\n",
    "adj = pd.DataFrame([(x, y) for x in shows_16['show_id'] for y in shows_16['show_id']\n",
    "                    if shows_16.loc[shows_16['show_id'] == x, 'start_date'].values\n",
    "                    < shows_16.loc[shows_16['show_id'] == y, 'start_date'].values])\n",
    "adj.columns = ['former', 'latter']\n",
    "adj['weight'] = 0\n",
    "for lab, row in adj.iterrows():\n",
    "    adj.loc[lab, 'weight'] = (\n",
    "        exhr[(exhr['show_id'] == row['former']) | (exhr['show_id'] == row['latter'])]\n",
    "        .groupby('exhr')['show_id'].count() >= 2\n",
    "    ).sum()\n",
    "\n",
    "# Nodes that are more interesting\n",
    "adj_i = adj[adj['weight'] >= adj['weight'].mean()]"
   ]
  },
  {
   "cell_type": "code",
   "execution_count": 3,
   "metadata": {
    "collapsed": false
   },
   "outputs": [],
   "source": [
    "import networkx as nx\n",
    "\n",
    "D = nx.from_pandas_dataframe(adj_i, source='former', target='latter', edge_attr='weight',\n",
    "                             create_using=nx.DiGraph())"
   ]
  },
  {
   "cell_type": "code",
   "execution_count": 4,
   "metadata": {
    "collapsed": false
   },
   "outputs": [
    {
     "name": "stdout",
     "output_type": "stream",
     "text": [
      "Removed node 1122.\n",
      "Removed node 2294.\n"
     ]
    }
   ],
   "source": [
    "# Trade show data\n",
    "shows = pd.read_excel(path + 'Jetro_Expo_List0119.xls', index_col=0,\n",
    "                      parse_cols='A,B,D:F,H,P,Q',\n",
    "                      parse_date=['exhibition_start_date', 'exhibition_end_date'])\n",
    "shows.index.name = 'show_id'\n",
    "shows.columns = ['show', 'start_date', 'end_date', 'show_ctry', 'show_ctry_code', 'industry', 'n_com']\n",
    "shows['istw'] = shows['show_ctry_code'] == 'TW'\n",
    "shows_16 = shows[shows['start_date'].dt.year == 2016]\n",
    "\n",
    "# Build trade show metadata\n",
    "for n, d in D.nodes(data=True):\n",
    "    if n in shows_16.index:\n",
    "        row = shows_16.loc[n]\n",
    "        d.update({\n",
    "            'name': row['show'],\n",
    "            'start': row['start_date'],\n",
    "            'end': row['end_date'],\n",
    "            'ctry': row['show_ctry'],\n",
    "            'istw': row['istw'],\n",
    "            'n_com': row['n_com']\n",
    "        })\n",
    "    else:\n",
    "        D.remove_node(n)\n",
    "        print('Removed node {}.'.format(n))"
   ]
  },
  {
   "cell_type": "code",
   "execution_count": 5,
   "metadata": {
    "collapsed": false,
    "scrolled": false
   },
   "outputs": [],
   "source": [
    "import nxviz as nv\n",
    "import matplotlib.pyplot as plt\n",
    "\n",
    "m = nv.MatrixPlot(D)\n",
    "m.draw()\n",
    "plt.savefig('matrix_plot.jpg', dpi=300)\n",
    "\n",
    "a = nv.ArcPlot(D, edge_width='weight', node_color='istw', node_size='n_com')\n",
    "a.draw()\n",
    "plt.savefig('arc_plot.jpg', dpi=300)\n",
    "\n",
    "c = nv.CircosPlot(D, edge_width='weight', node_color='istw', node_size='n_com')\n",
    "c.draw()\n",
    "# labels = {}\n",
    "# labels.update({n: d['name'] for n, d in D.nodes(data=True) if d['istw']})\n",
    "# pos = nx.nx_pydot.graphviz_layout(D, prog='circo')\n",
    "# nx.draw_networkx_labels(D, pos, labels, font_size=16)\n",
    "plt.savefig('circos_plot.jpg', dpi=300)"
   ]
  }
 ],
 "metadata": {
  "kernelspec": {
   "display_name": "Python 3",
   "language": "python",
   "name": "python3"
  },
  "language_info": {
   "codemirror_mode": {
    "name": "ipython",
    "version": 3
   },
   "file_extension": ".py",
   "mimetype": "text/x-python",
   "name": "python",
   "nbconvert_exporter": "python",
   "pygments_lexer": "ipython3",
   "version": "3.6.0"
  }
 },
 "nbformat": 4,
 "nbformat_minor": 2
}
