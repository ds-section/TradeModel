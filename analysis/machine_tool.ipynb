{
 "cells": [
  {
   "cell_type": "markdown",
   "metadata": {},
   "source": [
    "# Competitiveness of Taiwan Machine Tools (HS 8456-8466)"
   ]
  },
  {
   "cell_type": "markdown",
   "metadata": {},
   "source": [
    "#### Part 1: Sum over All Machine Tools"
   ]
  },
  {
   "cell_type": "code",
   "execution_count": 1,
   "metadata": {
    "collapsed": true
   },
   "outputs": [],
   "source": [
    "import pandas as pd\n",
    "\n",
    "path = '//172.26.1.102/dstore/uncomtrade/annual/type-C_r-ALL_ps-2015_freq-A_px-HS_pub-20170213_fmt-csv_ex-20170226.csv'\n",
    "df = pd.read_csv(path, dtype={'Commodity Code': str})"
   ]
  },
  {
   "cell_type": "code",
   "execution_count": 2,
   "metadata": {
    "collapsed": false
   },
   "outputs": [],
   "source": [
    "mt_regex = '^' + '|^'.join(map(str, range(8456, 8467)))\n",
    "mt = df.loc[(df['Aggregate Level'] == 6) & (df['Trade Flow'] == 'Import') &\n",
    "            (df['Partner'] != 'World') & (df['Commodity Code'].str.contains(mt_regex)),\n",
    "            ['Reporter', 'Partner', 'Commodity Code', 'Commodity', 'Trade Value (US$)']]\n",
    "mt.columns = ['reporter', 'partner', 'code', 'commodity', 'val']\n",
    "\n",
    "mt_sum = mt.groupby(['reporter', 'partner']).sum().reset_index()\n",
    "# Total import of each reporter\n",
    "mt_sum['world'] = mt_sum.groupby('reporter')['val'].transform('sum')\n",
    "# Market share for each partner country\n",
    "mt_sum['share'] = mt_sum['val'] / mt_sum['world'] * 100\n",
    "# Rank for each partner country\n",
    "mt_sum['rank'] = mt_sum.groupby('reporter')['val'].rank(ascending=False, method='min')"
   ]
  },
  {
   "cell_type": "code",
   "execution_count": 3,
   "metadata": {
    "collapsed": false
   },
   "outputs": [],
   "source": [
    "# World top 20 importer\n",
    "top20 = mt_sum.groupby('reporter').agg({'val': 'sum'}).sort_values(\n",
    "    'val', ascending=False).head(20).reset_index().rename(\n",
    "    columns=dict(reporter='進口國', val='自全球進口額(美元)'))\n",
    "top20['排名'] = range(1, len(top20) + 1)\n",
    "top20 = top20[['排名', '進口國', '自全球進口額(美元)']]"
   ]
  },
  {
   "cell_type": "code",
   "execution_count": 4,
   "metadata": {
    "collapsed": false
   },
   "outputs": [],
   "source": [
    "import numpy as np\n",
    "\n",
    "mt_sum = mt_sum[(mt_sum['partner'] == 'Other Asia, nes') & (mt_sum['rank'] <= 3)].sort_values(\n",
    "    ['rank', 'val'], ascending=[True, False]).drop('partner', axis=1)[\n",
    "    ['reporter', 'val', 'world', 'share', 'rank']]\n",
    "mt_sum = mt_sum.assign(in_top20=mt_sum['reporter'].apply(\n",
    "        lambda x: np.where(x in top20['進口國'].values, 'Y', 'N'))).rename(\n",
    "    columns=dict(reporter='進口國', val='自臺進口額(美元)', world='自全球進口額(美元)',\n",
    "                 share='臺灣市占率(%)', rank='臺灣排名', in_top20='為全球前20大進口國'))"
   ]
  },
  {
   "cell_type": "markdown",
   "metadata": {},
   "source": [
    "#### Part 2: By HS6 Products"
   ]
  },
  {
   "cell_type": "code",
   "execution_count": 5,
   "metadata": {
    "collapsed": true
   },
   "outputs": [],
   "source": [
    "df = pd.read_csv('C:/Users/2093/Desktop/Data Center/09. 產品別出口市場/comp_aggregate_6_utf-8.csv',\n",
    "                 dtype={'product': str})"
   ]
  },
  {
   "cell_type": "code",
   "execution_count": 6,
   "metadata": {
    "collapsed": true
   },
   "outputs": [],
   "source": [
    "eighteen = ['不丹', '印尼', '印度', '孟加拉', '寮國', '尼泊爾', '巴基斯坦', '斯里蘭卡', '新加坡',\n",
    "            '柬埔寨', '汶萊', '泰國', '澳大利亞', '紐西蘭', '緬甸', '菲律賓', '越南', '馬來西亞']\n",
    "mt_p = df[(df['country'].apply(lambda x: x in eighteen)) & (df['product'].str.contains(mt_regex)) &\n",
    "          (df['tw_rank'] == 1)]\n",
    "\n",
    "# For each category of machine tools, compute no. of importing countries where Taiwan ranks #1\n",
    "n_country = mt_p.groupby('product').agg({'country': 'count'}).reset_index()\n",
    "\n",
    "# Build a list of countries and their market share pasted together\n",
    "n_country['countries'] = [', '.join(pd.Series(list(zip(\n",
    "                    mt_p.loc[mt_p['product'] == p, 'country'].values,\n",
    "                    mt_p.loc[mt_p['product'] == p, 'tw_share'].apply(\n",
    "                        lambda x: '(' + str(round(x, 2)) + '%)')))).apply(\n",
    "            lambda x: ''.join(x)).values) for p in n_country['product']]\n",
    "\n",
    "n_country = n_country.sort_values('product').merge(\n",
    "    mt_p[['product', 'desc2', 'desc4', 'desc6']].drop_duplicates(), on='product')[\n",
    "    ['product', 'desc2', 'desc4', 'desc6', 'country', 'countries']].rename(\n",
    "    columns=dict(product='產品代碼', desc2='HS2名稱', desc4='HS4名稱', desc6='HS6名稱',\n",
    "                 country='臺灣排名第1進口國數', countries='國家(臺灣市占率)'))"
   ]
  },
  {
   "cell_type": "code",
   "execution_count": 7,
   "metadata": {
    "collapsed": false
   },
   "outputs": [],
   "source": [
    "from pandas import ExcelWriter\n",
    "\n",
    "# Write to separate worksheets\n",
    "writer = ExcelWriter('machine_tool.xlsx')\n",
    "mt_sum.to_excel(writer, sheet_name='(總和)臺灣排名前3進口國', index=False)\n",
    "top20.to_excel(writer, sheet_name='(總和)全球前20大進口國', index=False)\n",
    "n_country.to_excel(writer, sheet_name='(HS6產品別)臺灣排名第1進口國', index=False)\n",
    "writer.save()"
   ]
  }
 ],
 "metadata": {
  "kernelspec": {
   "display_name": "Python [conda root]",
   "language": "python",
   "name": "conda-root-py"
  },
  "language_info": {
   "codemirror_mode": {
    "name": "ipython",
    "version": 3
   },
   "file_extension": ".py",
   "mimetype": "text/x-python",
   "name": "python",
   "nbconvert_exporter": "python",
   "pygments_lexer": "ipython3",
   "version": "3.5.2"
  }
 },
 "nbformat": 4,
 "nbformat_minor": 1
}
