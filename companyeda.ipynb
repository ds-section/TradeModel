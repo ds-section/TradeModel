{
 "cells": [
  {
   "cell_type": "markdown",
   "metadata": {},
   "source": [
    "## Part 1: Loading Data"
   ]
  },
  {
   "cell_type": "code",
   "execution_count": 1,
   "metadata": {
    "collapsed": false
   },
   "outputs": [],
   "source": [
    "import pandas as pd\n",
    "\n",
    "path = 'C:/Users/2093/Desktop/Data Center/03. Data/05. TAITRA/CRM/'\n",
    "\n",
    "# Company profile datasets\n",
    "tax      = pd.read_csv(path + 'tax_utf-8.csv', header=0, index_col=False,\n",
    "                       names=['bogus', 'address', 'id', 'com_name', 'capital', 'est_date', 'invoice',\n",
    "                              'biz1_id', 'biz1', 'biz2_id', 'biz2', 'biz3_id', 'biz3',\n",
    "                              'biz4_id', 'biz4'],\n",
    "                       dtype={'bogus': str,\n",
    "                              'address': str,\n",
    "                              'id': str,\n",
    "                              'com_name': str,\n",
    "                              'capital': int,\n",
    "                              'est_date': int,\n",
    "                              'invoice': str,\n",
    "                              'biz1_id': str,\n",
    "                              'biz1': str,\n",
    "                              'biz2_id': str,\n",
    "                              'biz2': str,\n",
    "                              'biz3_id': str,\n",
    "                              'biz3': str,\n",
    "                              'biz4_id': str,\n",
    "                              'biz4': str})\n",
    "tax.set_index('id', inplace=True)\n",
    "factory  = pd.read_csv(path + 'factory_utf-8.csv', header=0, index_col=False,\n",
    "                       names=['bogus', 'com_name', 'factory_id', 'permit_id', 'address', 'county',\n",
    "                              'ceo', 'id', 'com_type', 'reg_date', 'permi_date', 'status', 'industry',\n",
    "                              'product'],\n",
    "                       dtype={'bogus': str,\n",
    "                              'com_name': str,\n",
    "                              'factory_id': str,\n",
    "                              'permit_id': str,\n",
    "                              'address': str,\n",
    "                              'county': str,\n",
    "                              'ceo': str,\n",
    "                              'id': str,\n",
    "                              'com_type': str,\n",
    "                              'reg_date': float,\n",
    "                              'premi_date': int,\n",
    "                              'status': str,\n",
    "                              'industry': str,\n",
    "                              'product': str})\n",
    "factory.set_index('id', inplace=True)\n",
    "com_type = pd.read_csv('C:/Users/2093/Desktop/Data Center/03. Data/06. companies/COMP_TYPE.csv',\n",
    "                       index_col=2, header=0,\n",
    "                       names=['type', 'type_id', 'id', 'user', 'date', 'bogus'])[['type']]\n",
    "\n",
    "# Event participation data\n",
    "event    = pd.read_csv(path + 'crm_group.csv', usecols=range(4), header=0,\n",
    "                       names=['year', 'event_name', 'source', 'event_id'])\n",
    "attend   = pd.read_csv(path + 'crm_basic_group.csv', usecols=range(2), header=0,\n",
    "                       names=['event_id', 'bogus'])"
   ]
  },
  {
   "cell_type": "code",
   "execution_count": 2,
   "metadata": {
    "collapsed": true
   },
   "outputs": [],
   "source": [
    "# Fix the invalid date '660700' found during datetime conversion\n",
    "tax.loc['40084498', 'est_date'] = 660701"
   ]
  },
  {
   "cell_type": "code",
   "execution_count": 3,
   "metadata": {
    "collapsed": false
   },
   "outputs": [],
   "source": [
    "def parseDate(x):\n",
    "    return pd.to_datetime(list(map(str, x + 19110000)), format='%Y%m%d', errors='coerce')\n",
    "\n",
    "tax['est_date'] = parseDate(tax['est_date'])\n",
    "factory['reg_date'] = parseDate(factory['reg_date'])\n",
    "factory['permi_date'] = parseDate(factory['permi_date'])"
   ]
  },
  {
   "cell_type": "markdown",
   "metadata": {},
   "source": [
    "## Part 2: Event Participation EDA"
   ]
  },
  {
   "cell_type": "code",
   "execution_count": 4,
   "metadata": {
    "collapsed": false,
    "scrolled": true
   },
   "outputs": [
    {
     "name": "stdout",
     "output_type": "stream",
     "text": [
      "- Time span of event records:\n",
      "  2013, 2014, 2015, 2016\n",
      "\n",
      "- No. of unique companies who have attended at least once over the 4 years:\n",
      "  128,869\n",
      "\n",
      "- Most attended events:\n",
      "+----------------------------+-------------+----------------+\n",
      "| source                     |   n_company |   fraction (%) |\n",
      "|----------------------------+-------------+----------------|\n",
      "| WISC光碟名錄-CRM_FMSISCM   |       90901 |       70.5375  |\n",
      "| J國內專業展-CRM_FMSPROFM   |       33596 |       26.0699  |\n",
      "| T研討會-CRM_FMSDISCM       |       12759 |        9.90075 |\n",
      "| U洽談會-CRM_FMSDISCM       |       12098 |        9.38783 |\n",
      "| N公會資料-CRM_FMSPUBLICM   |        7483 |        5.80667 |\n",
      "| OBOFT績優廠商-CRM_FMSBOFTM |        4299 |        3.33595 |\n",
      "| A國外參展-CRM_FMSEXHIBITM  |        2829 |        2.19525 |\n",
      "| M會議室資料-CRM_FMSMEETRM  |        1963 |        1.52325 |\n",
      "+----------------------------+-------------+----------------+\n"
     ]
    },
    {
     "data": {
      "image/png": "[encoded data removed]",
      "text/plain": [
       "<matplotlib.figure.Figure at 0x4b8572e8>"
      ]
     },
     "metadata": {},
     "output_type": "display_data"
    },
    {
     "name": "stdout",
     "output_type": "stream",
     "text": [
      "We can see that participation records for directories, trade shows, seminars, and procurement meetings are more likely to be useful later.\n"
     ]
    }
   ],
   "source": [
    "from tabulate import tabulate\n",
    "import matplotlib.pyplot as plt\n",
    "\n",
    "attend = pd.merge(attend, event, how='left', on='event_id')\n",
    "\n",
    "print('- Time span of event records:\\n  {}\\n'.format(\n",
    "        ', '.join(map(str, sorted(attend['year'].unique())))))\n",
    "n_attendant = len(attend['bogus'].unique())\n",
    "print('- No. of unique companies who have attended at least once over the 4 years:\\n  {:,}\\n'.format(\n",
    "        n_attendant))\n",
    "print('- Most attended events:')\n",
    "\n",
    "event_stats = attend.groupby('source').agg({'bogus': 'nunique'}).rename(columns={'bogus': 'n_company'})\n",
    "event_stats['fraction (%)'] = event_stats['n_company'] / n_attendant * 100\n",
    "event_stats = event_stats.sort_values(by='n_company', ascending=False)\n",
    "print(tabulate(event_stats, headers='keys', tablefmt='psql'))\n",
    "\n",
    "plt.clf()\n",
    "event_stats['n_company'].sort_values(ascending=True).plot(kind='barh')\n",
    "plt.xlabel('No. of Unique Companies')\n",
    "plt.ylabel('Source of Participation Records')\n",
    "plt.show()\n",
    "\n",
    "print('We can see that participation records for directories, trade shows, seminars, and procurement meetings are more likely',\n",
    "      'to be useful later.')"
   ]
  },
  {
   "cell_type": "code",
   "execution_count": 5,
   "metadata": {
    "collapsed": false,
    "scrolled": true
   },
   "outputs": [
    {
     "data": {
      "text/plain": [
       "<matplotlib.figure.Figure at 0x4d22240>"
      ]
     },
     "metadata": {},
     "output_type": "display_data"
    },
    {
     "data": {
      "image/png": "[encoded data removed]",
      "text/plain": [
       "<matplotlib.figure.Figure at 0x3e594208>"
      ]
     },
     "metadata": {},
     "output_type": "display_data"
    },
    {
     "name": "stdout",
     "output_type": "stream",
     "text": [
      "Apart from procurement meeting, all categories have shown a downward trend since 2014.\n"
     ]
    }
   ],
   "source": [
    "# Yearly trend\n",
    "plt.clf()\n",
    "year_event = attend.groupby(['year', 'source']).agg({'event_id': 'count'})\n",
    "year_event.reset_index(inplace=True)\n",
    "pd.pivot_table(year_event, index='source', columns='year', values='event_id').plot(\n",
    "    kind='barh', colormap='viridis', alpha=0.8)\n",
    "plt.xlabel('No. of Unique Companies')\n",
    "plt.ylabel('Source')\n",
    "plt.legend(title='Year')\n",
    "plt.show()\n",
    "\n",
    "print('Apart from procurement meeting, all categories have shown a downward trend since 2014.')"
   ]
  },
  {
   "cell_type": "code",
   "execution_count": 6,
   "metadata": {
    "collapsed": false
   },
   "outputs": [
    {
     "data": {
      "text/html": [
       "<div>\n",
       "<table border=\"1\" class=\"dataframe\">\n",
       "  <thead>\n",
       "    <tr style=\"text-align: right;\">\n",
       "      <th></th>\n",
       "      <th>n_event13</th>\n",
       "      <th>n_event14</th>\n",
       "      <th>n_event15</th>\n",
       "      <th>n_event16</th>\n",
       "    </tr>\n",
       "    <tr>\n",
       "      <th>bogus</th>\n",
       "      <th></th>\n",
       "      <th></th>\n",
       "      <th></th>\n",
       "      <th></th>\n",
       "    </tr>\n",
       "  </thead>\n",
       "  <tbody>\n",
       "    <tr>\n",
       "      <th>0000C9064A</th>\n",
       "      <td>0</td>\n",
       "      <td>9</td>\n",
       "      <td>1</td>\n",
       "      <td>3</td>\n",
       "    </tr>\n",
       "    <tr>\n",
       "      <th>00022B661F</th>\n",
       "      <td>0</td>\n",
       "      <td>1</td>\n",
       "      <td>0</td>\n",
       "      <td>0</td>\n",
       "    </tr>\n",
       "    <tr>\n",
       "      <th>00027C3C23</th>\n",
       "      <td>2</td>\n",
       "      <td>0</td>\n",
       "      <td>1</td>\n",
       "      <td>0</td>\n",
       "    </tr>\n",
       "    <tr>\n",
       "      <th>00033F38F0</th>\n",
       "      <td>0</td>\n",
       "      <td>1</td>\n",
       "      <td>0</td>\n",
       "      <td>0</td>\n",
       "    </tr>\n",
       "    <tr>\n",
       "      <th>0003C338A1</th>\n",
       "      <td>0</td>\n",
       "      <td>1</td>\n",
       "      <td>0</td>\n",
       "      <td>0</td>\n",
       "    </tr>\n",
       "  </tbody>\n",
       "</table>\n",
       "</div>"
      ],
      "text/plain": [
       "            n_event13  n_event14  n_event15  n_event16\n",
       "bogus                                                 \n",
       "0000C9064A          0          9          1          3\n",
       "00022B661F          0          1          0          0\n",
       "00027C3C23          2          0          1          0\n",
       "00033F38F0          0          1          0          0\n",
       "0003C338A1          0          1          0          0"
      ]
     },
     "execution_count": 6,
     "metadata": {},
     "output_type": "execute_result"
    }
   ],
   "source": [
    "# Compute no. of events each company participates in for 2013~2016\n",
    "com_event = attend.groupby(['bogus', 'year']).agg({'event_id': 'count'})\n",
    "com_event.reset_index(inplace=True)\n",
    "com_event = pd.pivot_table(com_event, index='bogus', columns='year', values='event_id', fill_value=0)\n",
    "com_event.columns = ['n_event' + str(y) for y in range(13, 17)]\n",
    "com_event.head()"
   ]
  },
  {
   "cell_type": "code",
   "execution_count": 7,
   "metadata": {
    "collapsed": false
   },
   "outputs": [
    {
     "data": {
      "text/html": [
       "<div>\n",
       "<table border=\"1\" class=\"dataframe\">\n",
       "  <thead>\n",
       "    <tr style=\"text-align: right;\">\n",
       "      <th>source</th>\n",
       "      <th>A國外參展-CRM_FMSEXHIBITM</th>\n",
       "      <th>J國內專業展-CRM_FMSPROFM</th>\n",
       "      <th>M會議室資料-CRM_FMSMEETRM</th>\n",
       "      <th>N公會資料-CRM_FMSPUBLICM</th>\n",
       "      <th>OBOFT績優廠商-CRM_FMSBOFTM</th>\n",
       "      <th>T研討會-CRM_FMSDISCM</th>\n",
       "      <th>U洽談會-CRM_FMSDISCM</th>\n",
       "      <th>WISC光碟名錄-CRM_FMSISCM</th>\n",
       "    </tr>\n",
       "    <tr>\n",
       "      <th>bogus</th>\n",
       "      <th></th>\n",
       "      <th></th>\n",
       "      <th></th>\n",
       "      <th></th>\n",
       "      <th></th>\n",
       "      <th></th>\n",
       "      <th></th>\n",
       "      <th></th>\n",
       "    </tr>\n",
       "  </thead>\n",
       "  <tbody>\n",
       "    <tr>\n",
       "      <th>0000C9064A</th>\n",
       "      <td>1</td>\n",
       "      <td>1</td>\n",
       "      <td>0</td>\n",
       "      <td>0</td>\n",
       "      <td>0</td>\n",
       "      <td>7</td>\n",
       "      <td>4</td>\n",
       "      <td>0</td>\n",
       "    </tr>\n",
       "    <tr>\n",
       "      <th>00022B661F</th>\n",
       "      <td>0</td>\n",
       "      <td>0</td>\n",
       "      <td>0</td>\n",
       "      <td>0</td>\n",
       "      <td>0</td>\n",
       "      <td>0</td>\n",
       "      <td>0</td>\n",
       "      <td>1</td>\n",
       "    </tr>\n",
       "    <tr>\n",
       "      <th>00027C3C23</th>\n",
       "      <td>0</td>\n",
       "      <td>0</td>\n",
       "      <td>0</td>\n",
       "      <td>0</td>\n",
       "      <td>0</td>\n",
       "      <td>2</td>\n",
       "      <td>0</td>\n",
       "      <td>1</td>\n",
       "    </tr>\n",
       "    <tr>\n",
       "      <th>00033F38F0</th>\n",
       "      <td>0</td>\n",
       "      <td>0</td>\n",
       "      <td>0</td>\n",
       "      <td>0</td>\n",
       "      <td>0</td>\n",
       "      <td>0</td>\n",
       "      <td>0</td>\n",
       "      <td>1</td>\n",
       "    </tr>\n",
       "    <tr>\n",
       "      <th>0003C338A1</th>\n",
       "      <td>0</td>\n",
       "      <td>0</td>\n",
       "      <td>0</td>\n",
       "      <td>0</td>\n",
       "      <td>0</td>\n",
       "      <td>0</td>\n",
       "      <td>0</td>\n",
       "      <td>1</td>\n",
       "    </tr>\n",
       "  </tbody>\n",
       "</table>\n",
       "</div>"
      ],
      "text/plain": [
       "source      A國外參展-CRM_FMSEXHIBITM  J國內專業展-CRM_FMSPROFM  M會議室資料-CRM_FMSMEETRM  \\\n",
       "bogus                                                                          \n",
       "0000C9064A                      1                    1                     0   \n",
       "00022B661F                      0                    0                     0   \n",
       "00027C3C23                      0                    0                     0   \n",
       "00033F38F0                      0                    0                     0   \n",
       "0003C338A1                      0                    0                     0   \n",
       "\n",
       "source      N公會資料-CRM_FMSPUBLICM  OBOFT績優廠商-CRM_FMSBOFTM  T研討會-CRM_FMSDISCM  \\\n",
       "bogus                                                                         \n",
       "0000C9064A                     0                       0                  7   \n",
       "00022B661F                     0                       0                  0   \n",
       "00027C3C23                     0                       0                  2   \n",
       "00033F38F0                     0                       0                  0   \n",
       "0003C338A1                     0                       0                  0   \n",
       "\n",
       "source      U洽談會-CRM_FMSDISCM  WISC光碟名錄-CRM_FMSISCM  \n",
       "bogus                                                \n",
       "0000C9064A                  4                     0  \n",
       "00022B661F                  0                     1  \n",
       "00027C3C23                  0                     1  \n",
       "00033F38F0                  0                     1  \n",
       "0003C338A1                  0                     1  "
      ]
     },
     "execution_count": 7,
     "metadata": {},
     "output_type": "execute_result"
    }
   ],
   "source": [
    "# Compute no. of events each company participates in by source\n",
    "com_source = attend.groupby(['bogus', 'source']).agg({'event_id': 'count'})\n",
    "com_source.reset_index(inplace=True)\n",
    "com_source = pd.pivot_table(com_source, index='bogus', columns='source', values='event_id', fill_value=0)\n",
    "com_source.head()"
   ]
  },
  {
   "cell_type": "markdown",
   "metadata": {},
   "source": [
    "## Part 3: Association Rule Mining"
   ]
  },
  {
   "cell_type": "code",
   "execution_count": 8,
   "metadata": {
    "collapsed": false
   },
   "outputs": [],
   "source": [
    "def support(df, *col_index):\n",
    "    nrows = len(df)\n",
    "    for i in col_index:\n",
    "        df = df[df.iloc[:, i] != 0]\n",
    "    return len(df) / nrows\n",
    "\n",
    "def confidence(df, x_index, y_index):\n",
    "    return support(df, x_index, y_index) / support(df, x_index)\n",
    "\n",
    "def lift(df, x_index, y_index):\n",
    "    return confidence(df, x_index, y_index) / support(df, y_index)"
   ]
  },
  {
   "cell_type": "code",
   "execution_count": 9,
   "metadata": {
    "collapsed": false
   },
   "outputs": [
    {
     "data": {
      "text/html": [
       "<div>\n",
       "<table border=\"1\" class=\"dataframe\">\n",
       "  <thead>\n",
       "    <tr style=\"text-align: right;\">\n",
       "      <th></th>\n",
       "      <th>lhs</th>\n",
       "      <th>rhs</th>\n",
       "      <th>support</th>\n",
       "      <th>confidence</th>\n",
       "      <th>lift</th>\n",
       "    </tr>\n",
       "  </thead>\n",
       "  <tbody>\n",
       "    <tr>\n",
       "      <th>0</th>\n",
       "      <td>A國外參展-CRM_FMSEXHIBITM</td>\n",
       "      <td>J國內專業展-CRM_FMSPROFM</td>\n",
       "      <td>0.012478</td>\n",
       "      <td>0.568399</td>\n",
       "      <td>2.180289</td>\n",
       "    </tr>\n",
       "    <tr>\n",
       "      <th>1</th>\n",
       "      <td>A國外參展-CRM_FMSEXHIBITM</td>\n",
       "      <td>M會議室資料-CRM_FMSMEETRM</td>\n",
       "      <td>0.001707</td>\n",
       "      <td>0.077766</td>\n",
       "      <td>5.105260</td>\n",
       "    </tr>\n",
       "    <tr>\n",
       "      <th>2</th>\n",
       "      <td>A國外參展-CRM_FMSEXHIBITM</td>\n",
       "      <td>N公會資料-CRM_FMSPUBLICM</td>\n",
       "      <td>0.002406</td>\n",
       "      <td>0.109579</td>\n",
       "      <td>1.887128</td>\n",
       "    </tr>\n",
       "    <tr>\n",
       "      <th>3</th>\n",
       "      <td>A國外參展-CRM_FMSEXHIBITM</td>\n",
       "      <td>OBOFT績優廠商-CRM_FMSBOFTM</td>\n",
       "      <td>0.001839</td>\n",
       "      <td>0.083775</td>\n",
       "      <td>2.511287</td>\n",
       "    </tr>\n",
       "    <tr>\n",
       "      <th>4</th>\n",
       "      <td>A國外參展-CRM_FMSEXHIBITM</td>\n",
       "      <td>T研討會-CRM_FMSDISCM</td>\n",
       "      <td>0.009839</td>\n",
       "      <td>0.448215</td>\n",
       "      <td>4.527080</td>\n",
       "    </tr>\n",
       "  </tbody>\n",
       "</table>\n",
       "</div>"
      ],
      "text/plain": [
       "                     lhs                     rhs   support  confidence  \\\n",
       "0  A國外參展-CRM_FMSEXHIBITM     J國內專業展-CRM_FMSPROFM  0.012478    0.568399   \n",
       "1  A國外參展-CRM_FMSEXHIBITM    M會議室資料-CRM_FMSMEETRM  0.001707    0.077766   \n",
       "2  A國外參展-CRM_FMSEXHIBITM    N公會資料-CRM_FMSPUBLICM  0.002406    0.109579   \n",
       "3  A國外參展-CRM_FMSEXHIBITM  OBOFT績優廠商-CRM_FMSBOFTM  0.001839    0.083775   \n",
       "4  A國外參展-CRM_FMSEXHIBITM       T研討會-CRM_FMSDISCM  0.009839    0.448215   \n",
       "\n",
       "       lift  \n",
       "0  2.180289  \n",
       "1  5.105260  \n",
       "2  1.887128  \n",
       "3  2.511287  \n",
       "4  4.527080  "
      ]
     },
     "execution_count": 9,
     "metadata": {},
     "output_type": "execute_result"
    }
   ],
   "source": [
    "import itertools\n",
    "\n",
    "n_category = com_source.shape[1]\n",
    "combi = list(itertools.permutations(range(n_category), 2))\n",
    "rules = pd.DataFrame({\n",
    "    'lhs': com_source.columns[list(list(zip(*combi))[0])],\n",
    "    'rhs': com_source.columns[list(list(zip(*combi))[1])],\n",
    "    'support': list(map(lambda x: support(com_source, *x), combi)),\n",
    "    'confidence': list(map(lambda x: confidence(com_source, *x), combi)),\n",
    "    'lift': list(map(lambda x: lift(com_source, *x), combi))\n",
    "    })[['lhs', 'rhs', 'support', 'confidence', 'lift']]\n",
    "rules.head()"
   ]
  },
  {
   "cell_type": "code",
   "execution_count": 10,
   "metadata": {
    "collapsed": false,
    "scrolled": true
   },
   "outputs": [
    {
     "data": {
      "text/plain": [
       "<matplotlib.figure.Figure at 0x3e832128>"
      ]
     },
     "metadata": {},
     "output_type": "display_data"
    },
    {
     "data": {
      "image/png": "[encoded data removed]",
      "text/plain": [
       "<matplotlib.figure.Figure at 0x3e82ad68>"
      ]
     },
     "metadata": {},
     "output_type": "display_data"
    },
    {
     "name": "stdout",
     "output_type": "stream",
     "text": [
      "Some of the most interesting rules:\n",
      "+----+---------------------------+--------------------------+------------+--------------+---------+\n",
      "|    | lhs                       | rhs                      |    support |   confidence |    lift |\n",
      "|----+---------------------------+--------------------------+------------+--------------+---------|\n",
      "|  0 | A國外參展-CRM_FMSEXHIBITM | J國內專業展-CRM_FMSPROFM | 0.0124778  |     0.568399 | 2.18029 |\n",
      "|  1 | A國外參展-CRM_FMSEXHIBITM | U洽談會-CRM_FMSDISCM     | 0.0124545  |     0.567338 | 6.04334 |\n",
      "|  2 | U洽談會-CRM_FMSDISCM      | J國內專業展-CRM_FMSPROFM | 0.0474047  |     0.504959 | 1.93695 |\n",
      "|  3 | M會議室資料-CRM_FMSMEETRM | U洽談會-CRM_FMSDISCM     | 0.00768222 |     0.50433  | 5.37217 |\n",
      "+----+---------------------------+--------------------------+------------+--------------+---------+\n",
      "有參加國外參展團的廠商，參加國內展的機率達0.57，參加洽談會的機率達0.57。\n",
      "有參加洽淡會的廠商，參加國內展的機率也有0.50。\n"
     ]
    }
   ],
   "source": [
    "plt.clf()\n",
    "fig, ax = plt.subplots()\n",
    "rules[['support', 'confidence', 'lift']].plot(ax=ax,\n",
    "    x='support', y='confidence', kind='scatter', c='lift', colormap='viridis', alpha=0.6)\n",
    "ax.set_xlabel('Support')\n",
    "ax.set_ylabel('Confidence')\n",
    "fig.get_axes()[1].set_ylabel('Lift')\n",
    "plt.axis([0, 0.08, 0., 0.7])\n",
    "plt.grid(True)\n",
    "plt.show()\n",
    "\n",
    "interesting_rules = rules.sort_values('confidence', ascending=False).head(4).reset_index()\n",
    "print('Some of the most interesting rules:')\n",
    "print(tabulate(interesting_rules.iloc[:, 1:], headers='keys', tablefmt='psql'))\n",
    "print('有參加國外參展團的廠商，參加國內展的機率達{:.2f}，參加洽談會的機率達{:.2f}。\\n'.format(\n",
    "    interesting_rules.ix[0, 'confidence'],\n",
    "    interesting_rules.ix[1, 'confidence']) +\n",
    "      '有參加洽淡會的廠商，參加國內展的機率也有{:.2f}。'.format(interesting_rules.ix[2, 'confidence']))"
   ]
  },
  {
   "cell_type": "markdown",
   "metadata": {},
   "source": [
    "## Part 4: Factories"
   ]
  },
  {
   "cell_type": "markdown",
   "metadata": {},
   "source": [
    "#### It may seem that every factory can be uniquely identified by a BAN. However, this is actually not the case:"
   ]
  },
  {
   "cell_type": "code",
   "execution_count": 11,
   "metadata": {
    "collapsed": false
   },
   "outputs": [
    {
     "data": {
      "text/plain": [
       "False"
      ]
     },
     "execution_count": 11,
     "metadata": {},
     "output_type": "execute_result"
    }
   ],
   "source": [
    "len(factory.index) == len(factory.index.unique())"
   ]
  },
  {
   "cell_type": "code",
   "execution_count": 12,
   "metadata": {
    "collapsed": false,
    "scrolled": true
   },
   "outputs": [
    {
     "name": "stdout",
     "output_type": "stream",
     "text": [
      "Distribution of no. of factories owned by company:\n",
      "\n",
      "1      73376\n",
      "2       5613\n",
      "3        750\n",
      "4        210\n",
      "5         72\n",
      "6         37\n",
      "7         22\n",
      "8          7\n",
      "9          7\n",
      "10         4\n",
      "11         6\n",
      "12         2\n",
      "13         2\n",
      "17         1\n",
      "18         1\n",
      "20         1\n",
      "27         1\n",
      "432        1\n",
      "Name: n_factory, dtype: int64\n"
     ]
    }
   ],
   "source": [
    "factory_count = factory.groupby(level='id').agg({'bogus': 'count'}).rename(columns={'bogus': 'n_factory'})\n",
    "print('Distribution of no. of factories owned by company:\\n')\n",
    "print(pd.value_counts(factory_count['n_factory']).sort_index())"
   ]
  },
  {
   "cell_type": "code",
   "execution_count": 13,
   "metadata": {
    "collapsed": false
   },
   "outputs": [
    {
     "name": "stdout",
     "output_type": "stream",
     "text": [
      "Some of the companies that own the most factories:\n"
     ]
    },
    {
     "data": {
      "text/html": [
       "<div>\n",
       "<table border=\"1\" class=\"dataframe\">\n",
       "  <thead>\n",
       "    <tr style=\"text-align: right;\">\n",
       "      <th></th>\n",
       "      <th>Company Name</th>\n",
       "      <th>No. of Factories Owned</th>\n",
       "    </tr>\n",
       "    <tr>\n",
       "      <th>id</th>\n",
       "      <th></th>\n",
       "      <th></th>\n",
       "    </tr>\n",
       "  </thead>\n",
       "  <tbody>\n",
       "    <tr>\n",
       "      <th>76027628</th>\n",
       "      <td>日月光半導體製造股份有限公司</td>\n",
       "      <td>27</td>\n",
       "    </tr>\n",
       "    <tr>\n",
       "      <th>24060203</th>\n",
       "      <td>國產建材實業股份有限公司</td>\n",
       "      <td>20</td>\n",
       "    </tr>\n",
       "    <tr>\n",
       "      <th>22099131</th>\n",
       "      <td>台灣積體電路製造股份有限公司</td>\n",
       "      <td>18</td>\n",
       "    </tr>\n",
       "    <tr>\n",
       "      <th>11072509</th>\n",
       "      <td>三福氣體股份有限公司</td>\n",
       "      <td>17</td>\n",
       "    </tr>\n",
       "    <tr>\n",
       "      <th>22798584</th>\n",
       "      <td>恒耀工業股份有限公司</td>\n",
       "      <td>13</td>\n",
       "    </tr>\n",
       "    <tr>\n",
       "      <th>23535435</th>\n",
       "      <td>欣興電子股份有限公司</td>\n",
       "      <td>13</td>\n",
       "    </tr>\n",
       "    <tr>\n",
       "      <th>12800225</th>\n",
       "      <td>群創光電股份有限公司</td>\n",
       "      <td>12</td>\n",
       "    </tr>\n",
       "    <tr>\n",
       "      <th>73251209</th>\n",
       "      <td>統一企業股份有限公司</td>\n",
       "      <td>12</td>\n",
       "    </tr>\n",
       "    <tr>\n",
       "      <th>03787101</th>\n",
       "      <td>台灣菸酒股份有限公司</td>\n",
       "      <td>11</td>\n",
       "    </tr>\n",
       "    <tr>\n",
       "      <th>11913502</th>\n",
       "      <td>台灣水泥股份有限公司</td>\n",
       "      <td>11</td>\n",
       "    </tr>\n",
       "  </tbody>\n",
       "</table>\n",
       "</div>"
      ],
      "text/plain": [
       "            Company Name  No. of Factories Owned\n",
       "id                                              \n",
       "76027628  日月光半導體製造股份有限公司                      27\n",
       "24060203    國產建材實業股份有限公司                      20\n",
       "22099131  台灣積體電路製造股份有限公司                      18\n",
       "11072509      三福氣體股份有限公司                      17\n",
       "22798584      恒耀工業股份有限公司                      13\n",
       "23535435      欣興電子股份有限公司                      13\n",
       "12800225      群創光電股份有限公司                      12\n",
       "73251209      統一企業股份有限公司                      12\n",
       "03787101      台灣菸酒股份有限公司                      11\n",
       "11913502      台灣水泥股份有限公司                      11"
      ]
     },
     "execution_count": 13,
     "metadata": {},
     "output_type": "execute_result"
    }
   ],
   "source": [
    "print('Some of the companies that own the most factories:')\n",
    "pd.merge(factory_count.sort_values('n_factory', ascending=False).head(11).iloc[1:, :], tax,\n",
    "         how='left', left_index=True, right_index=True)[['com_name', 'n_factory']].rename(\n",
    "    columns={'com_name': 'Company Name', 'n_factory': 'No. of Factories Owned'})"
   ]
  }
 ],
 "metadata": {
  "anaconda-cloud": {},
  "kernelspec": {
   "display_name": "Python [conda root]",
   "language": "python",
   "name": "conda-root-py"
  },
  "language_info": {
   "codemirror_mode": {
    "name": "ipython",
    "version": 3
   },
   "file_extension": ".py",
   "mimetype": "text/x-python",
   "name": "python",
   "nbconvert_exporter": "python",
   "pygments_lexer": "ipython3",
   "version": "3.5.2"
  }
 },
 "nbformat": 4,
 "nbformat_minor": 1
}
