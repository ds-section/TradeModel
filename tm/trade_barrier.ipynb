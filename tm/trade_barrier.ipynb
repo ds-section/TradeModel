{
 "cells": [
  {
   "cell_type": "markdown",
   "metadata": {},
   "source": [
    "# Trade Barriers Text Mining"
   ]
  },
  {
   "cell_type": "markdown",
   "metadata": {},
   "source": [
    "## Part 1: Cleaning Data"
   ]
  },
  {
   "cell_type": "code",
   "execution_count": 1,
   "metadata": {
    "collapsed": true
   },
   "outputs": [],
   "source": [
    "import pandas as pd\n",
    "\n",
    "df = pd.read_excel('trade_barrier.xlsx', header=None, names=['type', 'barrier', 'status'])\n",
    "# Create country column\n",
    "df['country'] = df.iloc[:, 0].str.extract(r'國家：(.+)', expand=False).fillna(method='ffill')\n",
    "# Remove \"「2015年對臺貿易障礙報告」調查表\" rows\n",
    "df = df[~df.iloc[:, 0].str.contains(r'調查表', na=False)].reset_index(drop=True)"
   ]
  },
  {
   "cell_type": "code",
   "execution_count": 2,
   "metadata": {
    "collapsed": false
   },
   "outputs": [],
   "source": [
    "# Remove newlines and carriage returns\n",
    "df = df.replace(r'[\\n\\r]', r'', regex=True)\n",
    "# Clean barrir type column\n",
    "df['type'] = df['type'].str.replace(r' ', r'').str.replace(r'.+、(.*)', r'\\1').replace(\n",
    "    [r'.*檢驗.*', r'.*其他.*', r'.*人員移動.*', r'.*標準.*'],\n",
    "    [r'檢驗與檢疫', r'其他', r'人員移動', r'標準與認證'], regex=True).fillna(method='ffill')\n",
    "# Replace commas, semicolons, parentheses, and non-interword whitespaces\n",
    "df = df.replace(\n",
    "    [r'([^a-zA-Z0-9.\\' ]{1}),([^a-zA-Z0-9.\\' ]{1})|([^a-zA-Z0-9.\\' ]{1}),(.{1})|(.{1}),([^a-zA-Z0-9.\\' ]{1})',\n",
    "     r'([^a-zA-Z]{1});',\n",
    "     r'（',\n",
    "     r'）',\n",
    "     r'([^a-zA-Z]{1}) ',\n",
    "     r' ([^a-zA-Z]{1})',\n",
    "    ],\n",
    "    [r'\\1，\\2',\n",
    "     r'\\1；',\n",
    "     r'(',\n",
    "     r')',\n",
    "     r'\\1',\n",
    "     r'\\1'\n",
    "    ], regex=True)\n",
    "# Fix incorrect spacing\n",
    "df = df.replace(r'([a-z])([A-Z])', r'\\1 \\2', regex=True)"
   ]
  },
  {
   "cell_type": "markdown",
   "metadata": {},
   "source": [
    "## Part 2: Compiling International Trade Terms Dictionary"
   ]
  },
  {
   "cell_type": "code",
   "execution_count": 3,
   "metadata": {
    "collapsed": false
   },
   "outputs": [
    {
     "name": "stdout",
     "output_type": "stream",
     "text": [
      "Wall time: 33.3 s\n"
     ]
    }
   ],
   "source": [
    "%%time\n",
    "\n",
    "import requests\n",
    "import re\n",
    "import string\n",
    "\n",
    "def get_trade_dict():\n",
    "\n",
    "    def scrape_boft():\n",
    "        resp = requests.get('http://www.trade.gov.tw/Pages/Detail.aspx?nodeID=134&pid=58045')\n",
    "        data = pd.read_html(resp.text)[1]\n",
    "        terms = data[1].str.replace(r'\\(.*?\\)', r'')\n",
    "        acronyms = re.findall(r'\\((.*?)\\)', ''.join(data[2]))\n",
    "        acronyms = [re.sub(r'^ | $', r'', x) for x in acronyms]\n",
    "        acronyms = [re.sub(r'、', r', ', x) for x in acronyms]\n",
    "        acronyms = list(filter(lambda x: not re.search(\n",
    "                    r'^[A-Z]{1}[a-z]*$|^[a-z]*$', x), acronyms))\n",
    "        boft_terms = list(terms) + acronyms\n",
    "        return boft_terms\n",
    "\n",
    "    def scrape_cier():\n",
    "        cier_terms = []\n",
    "        alphabet = list(string.ascii_uppercase)\n",
    "        alphabet.remove('X')\n",
    "        for l in alphabet:\n",
    "            url = 'http://web.wtocenter.org.tw/DictionaryList.aspx?formclass=' + l\n",
    "            resp = requests.get(url)\n",
    "            col = pd.read_html(resp.text)[0].iloc[1:, 1]\n",
    "            parentheses_rm = col.str.replace(r'（.*?）', r'').str.replace(\n",
    "                r'\\(.*?\\)', r'').str.replace(r' ', r'')\n",
    "            terms = list(parentheses_rm.str.extract(r'(.*?)-', expand=False))\n",
    "            acronyms = re.findall(r'([A-Z]{2,})', ''.join(col.values))\n",
    "            cier_terms += terms + acronyms\n",
    "        return cier_terms\n",
    "    \n",
    "    trade_dict = scrape_boft() + scrape_cier()\n",
    "    composites = list(filter(lambda x: re.search('vs.', x), trade_dict))\n",
    "    pures = list(filter(lambda x: not re.search('vs.', x), trade_dict))\n",
    "    flatten = [item for sublist in [re.split('vs.|V.S.', x) for x in composites]\n",
    "               for item in sublist]\n",
    "    trade_dict = list(set(pures + flatten))\n",
    "    trade_dict.sort()\n",
    "    with open('trade.txt', mode='w', encoding='utf-8') as file:\n",
    "        file.write('\\n'.join(trade_dict))\n",
    "    return\n",
    "\n",
    "get_trade_dict()"
   ]
  },
  {
   "cell_type": "markdown",
   "metadata": {},
   "source": [
    "## Part 3: Text Segmentation and Keyword Extraction"
   ]
  },
  {
   "cell_type": "code",
   "execution_count": 5,
   "metadata": {
    "collapsed": false
   },
   "outputs": [
    {
     "name": "stdout",
     "output_type": "stream",
     "text": [
      "Trade barrier document 175:\n",
      "\n",
      "1|.|泰國|於|1999|年|開始|實施|外商|法後|，|外商|禁止|經營|外商|法|附錄|中第|一類|所列|9|大|產業|；|惟|經|取得|內閣|允許|或|特許|執照|，|得|經營|第|二|、|三類|所列|各|產業|。|2|.|外商|法|對於|外國|法人|之|定義|及|對|外商|營業|之|限制|，|對|外商|在泰|投資|經營|發展|不利|。|(|註|：|依據|泰國|外商|法|，|泰國|限制|外商|經營|之|服務業|項目|如下|：|第|一|類|：|因|特殊|理由|禁止|外國人|經營|的|業別|包含|：|1|.|報業|、|廣播|電台|、|電視台|；|2|.|農業|、|灌溉|或|園藝|；|3|.|動物|育種|；|4|.|林業|及|木材|保育|；|5|.|漁業|；|6|.|泰|草本|粹取|；|7|.|泰國|古董|貿易|：|8|.|製造|佛像|及缽|；|9|.|土地|販售|。|第|二類|：|基於|國家|安全|、|維護|風土|民俗|、|保障|當地|製造|及|保護|天然|資源|等|原因|，|禁止|外國人|經營業|，|需|內閣|同意|後|才|允許|經營|相關|產業|。|第|三類|：|泰國人|對|外國人|未|具|競爭力|之|業務|，|惟|需|先|取得|特許|執照|：|碾米|與|麵粉|製造|、|包括|魚類|等|水產|養殖|、|植木|、|會計|服務業|；|法律|服務業|；|建築|服務業|；|工程|服務業|；|旅店|業|、|不|含|旅店|管理|；|導遊|業|(|包括|旅行社|業務|)|；|除|部會|級|法規|規定|的|服務業|以外|的|其|他|服務業|；|仲介|代理業|，|但|不|包括|(|a|)|證券|交易|仲介|或|代理|、|農產品|期貨|交易|、|有價證券|買賣|服務|；|(|b|)|為|聯營|企業|的|生產|、|服務|需要|提供|買賣|、|採購|、|尋求|服務|的|仲介|或|代理|業務|；|(|c|)|為|外國人|投入|最|低|資本|1|億|泰銖|以上|的|行銷|國內|產品|或|進口|產品|的|國際|貿易|企業|提供|買賣|、|採購|、|推銷|、|尋求|國內外|市場|的|仲介|或|代理|業務|。|(|d|)|部級|法規|規定|的|其|他|仲介|或|代理業|)|。|3|.|倘|以|泰國人|註冊|公司|及|其|營運|項目|，|其|外人|持股|受限|於|49|%|規定|，|並|需|依照|法|泰國|公司|等|相關|規定|。\n",
      "\n",
      "*Keywords: 服務業, 經營, 外商, 仲介, 外國人, 規定, 業務, 泰國, 買賣, 製造\n",
      "\n",
      "--\n",
      "\n",
      "Trade barrier document 196:\n",
      "\n",
      "1|.|公布|於|公共|採購|管理局|(|Public| |Procurement| |Authority|;|KIK|)|網站|之|採購|資訊|皆|為|土耳其文|，|外國|企業|需|另|雇用|翻譯|人員|以|知悉|各|程序|細節|。|2|.|外國|企業|可|參與|金額|超過|一定|門檻|之|政府|採購|標案|；|本國|企業|享有|15|%|標價|優惠|(|外商|在土|設立|分公司|視為|本國|企業|)|，|惟|不適|用於|合資|企業|。\n",
      "\n",
      "*Keywords: 企業, 採購, 本國, 外國, 15, 土耳其文, 管理局, 在土, 標案, 公布\n",
      "\n",
      "--\n",
      "\n",
      "Trade barrier document 25:\n",
      "\n",
      "一|、|因|政府|官僚|繁瑣|程序|及|稅捐|增加|，|造成|港口|物流|成本|增加|，|港口|通關|時間|也|從|原本|10|天|延長|，|耽誤|時效|，|且|增加|海關|倉儲|費用|。|二|、|瓜國|海關|人員|素質|不佳|，|對|進口|之|貨櫃|進行|開櫃|檢驗|拖延|時日|；|或|先|放行|通關|，|事後|追|補|高額|稅金|情事|。|三|、|自|2014|年|10|月|16|日起|進入|瓜地馬拉|港口|卸貨|船艦|徵收|新稅|，|註冊|登記為|1|萬|5|,|000|噸|船艦|繳納|4|,|550|美元|，|5|萬噸|以上|船艦|繳納|5|,|650|美元|。|純|觀光客|輪|不論|船艦|大小|一律|徵收|6|,|300|美元|。|另外|，|海運|服務|及|港口|設備|使用|、|特殊|集散場|、|入港|碼頭|、|停泊|、|檢查|區域|等|均|另|收取|費用|。|Quetzal|港口|理監事|亦|規定|罰款|，|申請|使用|港口|而|未|使用|仍|須|繳交|50|%|費用|；|逾期|未|繳|每日|處以|千分|之|一|罰金|。|四|、|進口|貨物|文件|資料|之|填寫|，|如|商業|發票|、|提單|、|申報|貨物稅|則|號碼|及|貨物|價格|等|相關|資料|內容|均|需|確實|填報|，|勿|高價|低報|，|以|避免|瓜國|海關|罰款|。\n",
      "\n",
      "*Keywords: 港口, 船艦, 海關, 增加, 使用, 費用, 10, 徵收, 瓜國, 貨物\n",
      "\n",
      "--\n",
      "\n",
      "Trade barrier document 67:\n",
      "\n",
      "由於|2015|年|國際|油價|跌幅|極大|，|仰賴|原油|出口|以|賺取|外匯|之|奈及利亞|外匯|短絀|嚴重|，|奈國|中央|銀行|爰|採|一|系列|外匯管制|措施|，|以|壓抑|進口|，|導致|進口商|極難|取得|外匯|以|支應|進口|所|需|。\n",
      "\n",
      "*Keywords: 外匯, 短絀, 進口, 跌幅, 壓抑, 系列, 中央, 由於, 奈國, 銀行\n",
      "\n",
      "--\n",
      "\n",
      "Trade barrier document 211:\n",
      "\n",
      "EU|/|EEA|公民|在|芬蘭|工作|或|居留|在|3|個|月|以下|，|北歐|國家|6|個|月|以下|，|無須|申請|居留|許可|(|residence| |permit|)|；|我國|申請人|可|以免|申根|簽證|進入|芬蘭|，|並|在|免|簽證|期滿|前|備妥|移民局|所|需|各|項|文件|親赴|當地|警察局|申請|居留|許可|，|惟|手續|繁複|，|通常|須由|移民局|會同|就業|經濟部|核辦|，|時間|可能|長達|3|個|月|，|我|國民|每人|需|繳交|規費|450|至|500|歐|元|，|學生|300|-|330|歐|元|。|年滿|18|歲|之|子女|不得|申請|依|親|。\n",
      "\n",
      "*Keywords: 居留, 申請, 以下, 許可, 移民局, 芬蘭, 簽證, 繳交, 當地, 公民\n",
      "\n",
      "--\n",
      "\n",
      "Trade barrier document 151:\n",
      "\n",
      "1|.|馬國|自|2013|年|2|月|20|日起|，|對|我國|、|中國|大陸|、|印尼|及|韓國|鋼|線材|產品|(|SWR|)|課徵|3.03|%|至|25.2|%|不等|反|傾銷稅|，|為期|5|年|，|以|保護|國內|鋼鐵|產業|。|其|中|我|中鋼|之鋼|線材|產品|被|課徵|10.98|%|稅率|，|豐興|鋼鐵|被|課徵|9.04|%|稅率|，|其|他|公司|則|課徵|25.2|%|稅率|。|2|.|馬國|自|2013|年|4|月|23|日起|，|對|我國|、|泰國|、|中國|大陸|、|印尼|及|越南|之|雙向|延伸|聚丙烯|薄膜|(|BOP|P|)|課徵|反|傾銷稅|，|稅率|由|2.59|%|至|12.37|%|不等|，|為期|5|年|。|我國|廠商|被|課徵|之|稅率|為|12.37|%|。\n",
      "\n",
      "*Keywords: 課徵, 稅率, 我國, 傾銷稅, 馬國, 25.2, 不等, 中國, 線材, 12.37\n",
      "\n",
      "--\n",
      "\n",
      "Trade barrier document 103:\n",
      "\n",
      "1|.|女性|入境|簽|1|.|科威特|對於|18|歲|以上|35|歲|以下|年輕|女性|，|均須|透過|內政部|移民局|特別|審核|。|同時|經常|不予|核准|，|造成|我|業者|商務|旅行|常|無法|取得|簽證|。|2|.|男性|25|歲|以上|，|65|歲|以下|之|訪問|簽證|，|僅|需|憑|我|駐|科威特|代表|處|、|科威特|台灣|貿易|中心|，|或|我|商於|科國|客戶|之|任一|方式|取得|邀請函|，|並|委請|下榻|科威特|旅館|協助|辦理|。|一般|約|需|10|個|工作天|。|3|.|Visiting| |Visa|簽證|核發|後|，|申請人|須於|30|日內|抵達|科威特|，|逾期|該|簽證|將|失效|4.2015|年|下半年|迄|今|，|外國人|申請|簽證|核發|比例|明顯|下降|(|官方|未|公佈|核准|比例|或|人數|)|。|據悉|，|移民局|向|各|旅館|表示|將|嚴審|及|控制|入境|之|外國|人士|。\n",
      "\n",
      "*Keywords: 簽證, 科威特, 以下, 旅館, 以上, 核准, 比例, 移民局, 核發, 取得\n",
      "\n",
      "--\n",
      "\n",
      "Trade barrier document 92:\n",
      "\n",
      "1|.|沙國|合格|之|經理人|，|較|不易|覓得|；|倘|有|人選|，|其|薪資|又|所費不貲|。|2|.|水電|、|瓦斯|及|汽油|之|價格|上漲|(|沙國|政府|自|2015|年|11|月起|，|逐步|減低|前開|能源|之|價格|補貼|，|致|各|項|能源|之|費用|逐步|上漲|)|。|3|.|合格|工作|人員|(|capable| |manpowering|)|之|訓練|費用|水漲船高|。|4|.|僱用|外籍|人士|，|常有|工作|許可|及|居留證|之|深請|問題|(|困難|)|；|然|倘|僱用|沙籍|人士|，|則|薪資|較|高|，|且|彼等|依|「|工作法|」|，|相關|之|保障|亦|偏|高|，|形成|投資|者|「|進退維谷|」|之|情形|。\n",
      "\n",
      "*Keywords: 價格, 人士, 僱用, 沙國, 逐步, 合格, 工作, 薪資, 費用, 居留證\n",
      "\n",
      "--\n",
      "\n",
      "Trade barrier document 185:\n",
      "\n",
      "1|.|印度|於|2011|年|實施|國家|製造業|政策|，|並|於|2012|年|公佈|優惠性|市場進入|政策|，|規定|政府|部門|採購|資通訊|設備|、|電子|、|節能|產品|時須|有|一定|比率|之|產品|在|印度|製造|，|印方|雖|於|2013|年|12|月|修正|該|政策|，|惟|仍|有|本地|自製率要求|。|2|.|目前|印度|以|火力|發電|為主|，|佔|總|發電量|70|%|，|政府|已|設定|2022|年前|達成|太陽能|發電|100Gw|及|風力|發電|60Gw|之|目標|，|以|緩和|對|環境|之|衝擊|，|惟|印度|政府|採購|計畫|訂有|自製率要求|，|外國|業者|難以|與|國內|業者|競爭|。\n",
      "\n",
      "*Keywords: 印度, 政府, 政策, 發電, 自製率要求, 產品, 業者, 採購, 比率, 60Gw\n",
      "\n",
      "--\n",
      "\n",
      "Trade barrier document 142:\n",
      "\n",
      "1|.|截至|2014|年|3|月|，|印尼|工業部|已|針對|94|項|產品|強制|實施|須|符合|印尼|國家|標準|(|SNI|)|，|包括|6|項|農產品|、|12|項|食品|及|飲料|、|25|項|基本|金屬|及|鋼鐵|產品|、|12|項|肥料|及|石化|產品|、|3|項|運動鞋|及|皮革|品及|1|項|紡織品|。|2|.|為|迎接|東協|經濟體|之|成立|，|印尼|政府|於|2015|年|增加|66|項|須|強制|符合|SNI|之|產品|，|包括|食品|飲料|、|電子|產品|及|紡織品|等\n",
      "\n",
      "*Keywords: 產品, 印尼, 強制, 12, SNI, 食品, 紡織品, 飲料, 符合, 成立\n",
      "\n",
      "--\n",
      "\n"
     ]
    }
   ],
   "source": [
    "import jieba\n",
    "import jieba.analyse\n",
    "import numpy as np\n",
    "\n",
    "# Using default dictionary of jieba-zh_TW\n",
    "jieba.set_dictionary('C:/Program Files/Anaconda3/Lib/site-packages/jieba/dict.txt')\n",
    "# Alternative dictionary provided in jieba extra_dict:\n",
    "# jieba.set_dictionary('dict.txt.big.txt')\n",
    "# Add custom dictionary\n",
    "jieba.load_userdict('trade.txt')\n",
    "# Custom stop words\n",
    "# jieba.analyse.set_stop_words(file_name)\n",
    "# Custom Idf\n",
    "jieba.analyse.set_idf_path('idf.txt')\n",
    "\n",
    "np.random.seed(7)\n",
    "for ind in np.random.randint(0, len(df), 10):\n",
    "    seg_list = jieba.cut(df['status'][ind])\n",
    "    print(('Trade barrier document {}:\\n\\n'.format(ind)\n",
    "           + '|'.join(seg_list) + '\\n\\n'\n",
    "           + '*Keywords: {}\\n\\n--\\n'.format(', '.join(\n",
    "                    jieba.analyse.extract_tags(df['status'][ind], 10, withWeight=False)))))"
   ]
  }
 ],
 "metadata": {
  "anaconda-cloud": {},
  "kernelspec": {
   "display_name": "Python [conda root]",
   "language": "python",
   "name": "conda-root-py"
  },
  "language_info": {
   "codemirror_mode": {
    "name": "ipython",
    "version": 3
   },
   "file_extension": ".py",
   "mimetype": "text/x-python",
   "name": "python",
   "nbconvert_exporter": "python",
   "pygments_lexer": "ipython3",
   "version": "3.5.2"
  }
 },
 "nbformat": 4,
 "nbformat_minor": 1
}
