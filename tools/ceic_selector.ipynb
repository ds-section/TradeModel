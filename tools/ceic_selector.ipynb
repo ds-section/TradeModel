{
 "cells": [
  {
   "cell_type": "markdown",
   "metadata": {},
   "source": [
    "# CEIC GUI Auto Selector"
   ]
  },
  {
   "cell_type": "markdown",
   "metadata": {},
   "source": [
    "#### Simple Demo"
   ]
  },
  {
   "cell_type": "code",
   "execution_count": 4,
   "metadata": {
    "collapsed": false
   },
   "outputs": [
    {
     "data": {
      "text/plain": [
       "<pywinauto.controls.win32_controls.EditWrapper at 0x64b0750>"
      ]
     },
     "execution_count": 4,
     "metadata": {},
     "output_type": "execute_result"
    }
   ],
   "source": [
    "from pywinauto.application import Application\n",
    "\n",
    "# Run a target application\n",
    "app = Application().start('notepad.exe')\n",
    "# Select a menu item\n",
    "app.未命名.menu_select('說明->關於記事本')\n",
    "# Click on a button\n",
    "app.關於記事本.確定.click()\n",
    "# Type a text string\n",
    "app.未命名.Edit.type_keys(\"pywinauto Works!\", with_spaces=True)"
   ]
  },
  {
   "cell_type": "markdown",
   "metadata": {},
   "source": [
    "#### Notepad Demo"
   ]
  },
  {
   "cell_type": "code",
   "execution_count": 10,
   "metadata": {
    "collapsed": false
   },
   "outputs": [
    {
     "name": "stdout",
     "output_type": "stream",
     "text": [
      "Control Identifiers:\n",
      "\n",
      "Dialog - '取代'    (L310, T175, R671, B352)\n",
      "['取代', 'Dialog', '取代Dialog']\n",
      "child_window(title=\"取代\", class_name=\"#32770\")\n",
      "   | \n",
      "   | Static - '尋找目標(&N):'    (L324, T217, R396, B231)\n",
      "   | ['Static1', 'Static', '尋找目標(&N):Static', 'Static0', '尋找目標(&N):']\n",
      "   | child_window(title=\"尋找目標(&N):\", class_name=\"Static\")\n",
      "   | \n",
      "   | Edit - ''    (L399, T214, R570, B232)\n",
      "   | ['尋找目標(&N):Edit', 'Edit', 'Edit1', 'Edit0']\n",
      "   | child_window(class_name=\"Edit\")\n",
      "   | \n",
      "   | Static - '取代為(&P):'    (L324, T242, R396, B256)\n",
      "   | ['Static2', '取代為(&P):', '取代為(&P):Static']\n",
      "   | child_window(title=\"取代為(&P):\", class_name=\"Static\")\n",
      "   | \n",
      "   | Edit - ''    (L399, T239, R570, B257)\n",
      "   | ['Edit2', '取代為(&P):Edit']\n",
      "   | child_window(class_name=\"Edit\")\n",
      "   | \n",
      "   | CheckBox - '全字拼寫須符合(&W)'    (L326, T272, R482, B290)\n",
      "   | ['全字拼寫須符合(&W)CheckBox', '全字拼寫須符合(&W)', 'CheckBox1', 'CheckBox', 'CheckBox0']\n",
      "   | child_window(title=\"全字拼寫須符合(&W)\", class_name=\"Button\")\n",
      "   | \n",
      "   | CheckBox - '大小寫視為相異(&C)'    (L326, T296, R454, B314)\n",
      "   | ['大小寫視為相異(&C)CheckBox', '大小寫視為相異(&C)', 'CheckBox2']\n",
      "   | child_window(title=\"大小寫視為相異(&C)\", class_name=\"Button\")\n",
      "   | \n",
      "   | Button - '找下一個(&F)'    (L579, T209, R654, B230)\n",
      "   | ['Button1', 'Button', 'Button0', '找下一個(&F)Button', '找下一個(&F)']\n",
      "   | child_window(title=\"找下一個(&F)\", class_name=\"Button\")\n",
      "   | \n",
      "   | Button - '取代(&R)'    (L579, T235, R654, B256)\n",
      "   | ['取代(&R)Button', 'Button2', '取代(&R)']\n",
      "   | child_window(title=\"取代(&R)\", class_name=\"Button\")\n",
      "   | \n",
      "   | Button - '全部取代(&A)'    (L579, T260, R654, B281)\n",
      "   | ['全部取代(&A)', '全部取代(&A)Button', 'Button3']\n",
      "   | child_window(title=\"全部取代(&A)\", class_name=\"Button\")\n",
      "   | \n",
      "   | Button - '取消'    (L579, T286, R654, B307)\n",
      "   | ['取消', 'Button4', '取消Button']\n",
      "   | child_window(title=\"取消\", class_name=\"Button\")\n",
      "   | \n",
      "   | Button - '說明(&H)'    (L579, T316, R654, B337)\n",
      "   | ['說明(&H)', '說明(&H)Button', 'Button5']\n",
      "   | child_window(title=\"說明(&H)\", class_name=\"Button\")\n"
     ]
    }
   ],
   "source": [
    "from pywinauto import application\n",
    "\n",
    "# Create an Application instance\n",
    "app = application.Application()\n",
    "app.start('notepad.exe')\n",
    "\n",
    "# Select the Replace item from the Edit Menu on the Notepad Dialog of the application\n",
    "app.未命名.menu_select('編輯 -> 取代(&R)...')\n",
    "# Print the identifiers for the controls on the Replace dialog\n",
    "app.取代.print_control_identifiers()\n",
    "\n",
    "# In a script file it's safer to use close_click() rather than click()\n",
    "# because close_click() waits a little longer to give windows time to close the dialog\n",
    "app.取代.取消.close_click()\n",
    "app.未命名.Edit.type_keys('Hi from Python interactive prompt %s' % str(dir()), with_spaces=True)\n",
    "app.未命名.menu_select('檔案 -> 結束')\n",
    "app.記事本.不要儲存.click()"
   ]
  },
  {
   "cell_type": "markdown",
   "metadata": {},
   "source": [
    "#### PCMan Demo"
   ]
  },
  {
   "cell_type": "code",
   "execution_count": 42,
   "metadata": {
    "collapsed": false,
    "scrolled": true
   },
   "outputs": [
    {
     "data": {
      "text/plain": [
       "<pywinauto.application.Application at 0x5a06950>"
      ]
     },
     "execution_count": 42,
     "metadata": {},
     "output_type": "execute_result"
    }
   ],
   "source": [
    "app = application.Application()\n",
    "app.start('C:/Program Files/PCMan Combo/PCMan.exe')"
   ]
  },
  {
   "cell_type": "code",
   "execution_count": 45,
   "metadata": {
    "collapsed": false,
    "scrolled": false
   },
   "outputs": [
    {
     "name": "stdout",
     "output_type": "stream",
     "text": [
      "Control Identifiers:\n",
      "\n",
      "Dialog - '自訂操作熱鍵'    (L456, T217, R984, B653)\n",
      "['自訂操作熱鍵Dialog', '自訂操作熱鍵', 'Dialog']\n",
      "child_window(title=\"自訂操作熱鍵\", class_name=\"#32770\")\n",
      "   | \n",
      "   | TreeView - 'Tree1'    (L470, T251, R785, B640)\n",
      "   | ['Tree1TreeView', 'TreeView', 'Tree1']\n",
      "   | child_window(title=\"Tree1\", class_name=\"SysTreeView32\")\n",
      "   | \n",
      "   | Edit - ''    (L795, T393, R971, B414)\n",
      "   | ['請在此輸入新的熱鍵：Edit0', 'Edit', 'Edit0', '請在此輸入新的熱鍵：Edit1', '請在此輸入新的熱鍵：Edit', 'Edit1']\n",
      "   | child_window(class_name=\"Edit\")\n",
      "   | \n",
      "   | Edit - 'C'    (L795, T420, R822, B441)\n",
      "   | ['Edit2', '請在此輸入新的熱鍵：Edit2']\n",
      "   | child_window(title=\"C\", class_name=\"Edit\")\n",
      "   | \n",
      "   | Button - '套用這個熱鍵'    (L827, T420, R971, B441)\n",
      "   | ['Button1', 'Button', 'Button0', '套用這個熱鍵Button', '套用這個熱鍵']\n",
      "   | child_window(title=\"套用這個熱鍵\", class_name=\"Button\")\n",
      "   | \n",
      "   | ListBox - ''    (L795, T269, R971, B337)\n",
      "   | ['ListBox', '本功能目前使用的熱鍵：ListBox']\n",
      "   | child_window(class_name=\"ListBox\")\n",
      "   | \n",
      "   | Button - '刪除選取的熱鍵'    (L863, T338, R971, B359)\n",
      "   | ['刪除選取的熱鍵', '刪除選取的熱鍵Button', 'Button2']\n",
      "   | child_window(title=\"刪除選取的熱鍵\", class_name=\"Button\")\n",
      "   | \n",
      "   | Button - '確定'    (L797, T618, R872, B639)\n",
      "   | ['確定Button', '確定', 'Button3']\n",
      "   | child_window(title=\"確定\", class_name=\"Button\")\n",
      "   | \n",
      "   | Button - '取消'    (L896, T618, R971, B639)\n",
      "   | ['Button4', '取消Button', '取消']\n",
      "   | child_window(title=\"取消\", class_name=\"Button\")\n",
      "   | \n",
      "   | Static - '從左邊項目中選出要設定熱鍵的功能，然後在右邊輸入熱鍵處按下想要的熱鍵，完成後按下按鈕即可將熱鍵套用到該功能表項目，請注意不要將同一熱鍵重複指定給不同功能，全部完成後按確定即可。'    (L800, T524, R971, B613)\n",
      "   | ['Static', '從左邊項目中選出要設定熱鍵的功能，然後在右邊輸入熱鍵處按下想要的熱鍵，完成後按下按鈕即可將熱鍵套用到該功能表項目，請注意不要將同一熱鍵重複指定給不同功能，全部完成後按確定即可。Static', 'Static0', '從左邊項目中選出要設定熱鍵的功能，然後在右邊輸入熱鍵處按下想要的熱鍵，完成後按下按鈕即可將熱鍵套用到該功能表項目，請注意不要將同一熱鍵重複指定給不同功能，全部完成後按確定即可。', 'Static1']\n",
      "   | child_window(title=\"從左邊項目中選出要設定熱鍵的功能，然後在右邊輸入熱鍵處按下想要的熱鍵，完成後按下按鈕即可將熱鍵套用到該功能表項目，請注意不要將同一熱鍵重複指定給不同功能，全部完成後按確定即可。\", class_name=\"Static\")\n",
      "   | \n",
      "   | Static - '此熱鍵目前指定給：'    (L795, T453, R905, B465)\n",
      "   | ['Static2', '此熱鍵目前指定給：', '此熱鍵目前指定給：Static1', '此熱鍵目前指定給：Static0', '此熱鍵目前指定給：Static']\n",
      "   | child_window(title=\"此熱鍵目前指定給：\", class_name=\"Static\")\n",
      "   | \n",
      "   | Static - ''    (L795, T470, R971, B512)\n",
      "   | ['Static3', '此熱鍵目前指定給：Static2']\n",
      "   | child_window(class_name=\"Static\")\n",
      "   | \n",
      "   | Static - '本功能目前使用的熱鍵：'    (L795, T251, R929, B263)\n",
      "   | ['本功能目前使用的熱鍵：Static', '本功能目前使用的熱鍵：', 'Static4']\n",
      "   | child_window(title=\"本功能目前使用的熱鍵：\", class_name=\"Static\")\n",
      "   | \n",
      "   | Static - '請在此輸入新的熱鍵：'    (L795, T375, R917, B387)\n",
      "   | ['請在此輸入新的熱鍵：Static', 'Static5', '請在此輸入新的熱鍵：']\n",
      "   | child_window(title=\"請在此輸入新的熱鍵：\", class_name=\"Static\")\n"
     ]
    }
   ],
   "source": [
    "app.PCMAN.menu_select('選項 (&V) -> 自訂PCMan所有熱鍵')\n",
    "app.自訂操作熱鍵.print_control_identifiers()"
   ]
  },
  {
   "cell_type": "code",
   "execution_count": 62,
   "metadata": {
    "collapsed": false
   },
   "outputs": [
    {
     "data": {
      "text/plain": [
       "['Tree1',\n",
       " '連線 (&C)',\n",
       " '新增連線分頁 (&N)',\n",
       " '開新空白網頁 (&B)\\tAlt+N',\n",
       " '目前網頁 (&C)',\n",
       " '用 IE 開啟目前網頁 (&I)',\n",
       " 'IE首頁 (&H)',\n",
       " '──────────',\n",
       " 'BBS快速連線\\tAlt+Q',\n",
       " '開啟站台列表 (&S)\\tAlt+S',\n",
       " '──────────',\n",
       " '中斷這個連線 (&D)',\n",
       " '關閉這個分頁 (&C)\\tCtrl+Del',\n",
       " '重新連線 (&R)\\tAlt+R',\n",
       " '上次的連線 (&P)\\tAlt+F',\n",
       " '──────────',\n",
       " '開啟網頁 (&O)',\n",
       " '另存網頁 (&A)',\n",
       " '網頁列印設定 (&P)',\n",
       " '列印網頁 (&P)',\n",
       " '──────────',\n",
       " '結束 (&X)']"
      ]
     },
     "execution_count": 62,
     "metadata": {},
     "output_type": "execute_result"
    }
   ],
   "source": [
    "app.自訂操作熱鍵.TreeView.texts()"
   ]
  },
  {
   "cell_type": "code",
   "execution_count": 102,
   "metadata": {
    "collapsed": false
   },
   "outputs": [
    {
     "data": {
      "text/plain": [
       "<pywinauto.controls.common_controls._treeview_element at 0x6a4aeb0>"
      ]
     },
     "execution_count": 102,
     "metadata": {},
     "output_type": "execute_result"
    }
   ],
   "source": [
    "app.自訂操作熱鍵.TreeView.GetItem(['連線 (&C)', '新增連線分頁 (&N)']).GetChild('BBS快速連線').click()"
   ]
  }
 ],
 "metadata": {
  "anaconda-cloud": {},
  "kernelspec": {
   "display_name": "Python [conda root]",
   "language": "python",
   "name": "conda-root-py"
  },
  "language_info": {
   "codemirror_mode": {
    "name": "ipython",
    "version": 3
   },
   "file_extension": ".py",
   "mimetype": "text/x-python",
   "name": "python",
   "nbconvert_exporter": "python",
   "pygments_lexer": "ipython3",
   "version": "3.5.2"
  }
 },
 "nbformat": 4,
 "nbformat_minor": 1
}
