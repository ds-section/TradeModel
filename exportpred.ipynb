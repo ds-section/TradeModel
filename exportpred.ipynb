{
 "cells": [
  {
   "cell_type": "markdown",
   "metadata": {},
   "source": [
    "## Part 1: Loading Data"
   ]
  },
  {
   "cell_type": "code",
   "execution_count": 1,
   "metadata": {
    "collapsed": false
   },
   "outputs": [],
   "source": [
    "import pandas as pd\n",
    "\n",
    "def readExportData(year, month):\n",
    "    \"\"\"\n",
    "    Takes int AD year and int month.\n",
    "    Outputs monthly sum (column) by country (row).\n",
    "    \"\"\"\n",
    "    filename = str(year) + '-' + str(month).zfill(2)\n",
    "    df = pd.read_csv('//172.20.23.190/ds/Raw Data/MOF-us-2003-2016-rev/' + filename + '.tsv', sep='\\t',\n",
    "                     usecols=['國家', '貨品分類', '價值'])\n",
    "    df.columns = ['country', 'code', 'val']\n",
    "    df = df.groupby(['country']).agg({'val': 'sum'}).rename(columns={'val': filename})\n",
    "    return df\n",
    "\n",
    "def readImportData(year, month):\n",
    "    \"\"\"\n",
    "    Takes int AD year and int month.\n",
    "    Outputs monthly sum (column) by HS6 commodity (row).\n",
    "    \"\"\"\n",
    "    filename = str(year) + '-' + str(month).zfill(2)\n",
    "    df = pd.read_csv('//172.20.23.190/ds/Raw Data/MOF-us-2003-2016-rev/' + filename + '.tsv', sep='\\t',\n",
    "                     usecols=['貨品分類', '價值'], dtype = {'貨品分類': str, '價值': float})\n",
    "    df.columns = ['code', 'val']\n",
    "    df['level6'] = df['code'].apply(lambda x: x[:6])\n",
    "    df = df.groupby(['level6']).agg({'val': 'sum'}).rename(columns={'val': filename})\n",
    "    return df"
   ]
  },
  {
   "cell_type": "code",
   "execution_count": 2,
   "metadata": {
    "collapsed": false
   },
   "outputs": [],
   "source": [
    "import itertools\n",
    "from functools import reduce\n",
    "\n",
    "def joinMonthlyData(func, start_year, end_year):\n",
    "    \"\"\"\n",
    "    Uses func to read all monthly data within specified year range, then join by index.\n",
    "    \n",
    "    Parameters\n",
    "    ----------\n",
    "    func: {readExportData, readImportdata}.\n",
    "    \"\"\"\n",
    "    # Years and months to read\n",
    "    years = range(start_year, end_year + 1)\n",
    "    months = range(1, 13)\n",
    "    year_month = list(itertools.product(years, months))\n",
    "\n",
    "    # Call func on years and months, cumulatively join each DataFrame\n",
    "    df_map = map(lambda x, y: func(year=x, month=y), [x[0] for x in year_month], [x[1] for x in year_month])\n",
    "    df = reduce(lambda x, y: pd.merge(left=x, right=y, how='outer', left_index=True, right_index=True), df_map)\n",
    "\n",
    "    # Impute NA's and transpose DataFrame\n",
    "    df.fillna(0, inplace=True)\n",
    "    df = df.transpose()\n",
    "    \n",
    "    return df"
   ]
  },
  {
   "cell_type": "code",
   "execution_count": 3,
   "metadata": {
    "collapsed": false
   },
   "outputs": [
    {
     "name": "stdout",
     "output_type": "stream",
     "text": [
      "Dimensions of X: 168 x 5758\n",
      "Dimensions of Y: 168 x 221\n"
     ]
    }
   ],
   "source": [
    "# Create column for world, newsouth eighteen and ten\n",
    "Y = joinMonthlyData(func=readExportData, start_year=2003, end_year=2016)\n",
    "Y['全球'] = Y.sum(axis=1)\n",
    "eighteen = ['不丹', '印尼', '印度', '孟加拉', '寮國', '尼泊爾', '巴基斯坦', '斯里蘭卡', '新加坡', '柬埔寨', '汶萊', '泰國', \n",
    "            '澳大利亞', '紐西蘭', '緬甸', '菲律賓', '越南', '馬來西亞']\n",
    "ten = ['印尼', '寮國', '新加坡', '柬埔寨', '汶萊', '泰國', '緬甸', '菲律賓', '越南', '馬來西亞']\n",
    "Y['十八國'] = Y.loc[:, eighteen].sum(axis=1)\n",
    "Y['十國'] = Y.loc[:, ten].sum(axis=1)\n",
    "\n",
    "X = joinMonthlyData(func=readImportData, start_year=2003, end_year=2016)\n",
    "\n",
    "print('Dimensions of X: {} x {}'.format(X.shape[0], X.shape[1]))\n",
    "print('Dimensions of Y: {} x {}'.format(X.shape[0], Y.shape[1]))"
   ]
  },
  {
   "cell_type": "markdown",
   "metadata": {
    "collapsed": true
   },
   "source": [
    "## Part 2: Preprocessing Data"
   ]
  },
  {
   "cell_type": "code",
   "execution_count": 4,
   "metadata": {
    "collapsed": false
   },
   "outputs": [
    {
     "name": "stdout",
     "output_type": "stream",
     "text": [
      "Dimensions of X: 168 x 2071\n"
     ]
    }
   ],
   "source": [
    "# Keep only non-zero features\n",
    "X = X.loc[:, (X != 0).all(axis=0)]\n",
    "print('Dimensions of X: {} x {}'.format(X.shape[0], X.shape[1]))"
   ]
  },
  {
   "cell_type": "code",
   "execution_count": 5,
   "metadata": {
    "collapsed": false
   },
   "outputs": [
    {
     "name": "stdout",
     "output_type": "stream",
     "text": [
      "Dimensions of X: 168 x 24852\n"
     ]
    }
   ],
   "source": [
    "# Create lag data for period = 1, ..., 11 and bind by columns\n",
    "def createLagData(df, periods=1):\n",
    "    \"\"\"\n",
    "    Creates lag data and modify column names.\n",
    "    \"\"\"\n",
    "    lag_df = df.shift(periods=periods)\n",
    "    lag_df.columns = [c + 'l' + str(periods) for c in df.columns]\n",
    "    return lag_df\n",
    "X = pd.concat([X] + list(map(lambda p: createLagData(X, periods=p), range(1, 12))), axis=1)\n",
    "print('Dimensions of X: {} x {}'.format(X.shape[0], X.shape[1]))"
   ]
  },
  {
   "cell_type": "code",
   "execution_count": 6,
   "metadata": {
    "collapsed": false
   },
   "outputs": [
    {
     "name": "stdout",
     "output_type": "stream",
     "text": [
      "Dimensions of X: 157 x 24852\n",
      "X data period: 2003-12 ~ 2016-12\n",
      "Y data period: 2003-01 ~ 2016-12\n"
     ]
    }
   ],
   "source": [
    "# Remove the first 11 rows which contain NaN's\n",
    "X = X.iloc[11:, :]\n",
    "print('Dimensions of X: {} x {}'.format(X.shape[0], X.shape[1]))\n",
    "print('X data period: {} ~ {}'.format(X.index[0], X.index[-1]))\n",
    "print('Y data period: {} ~ {}'.format(Y.index[0], Y.index[-1]))"
   ]
  },
  {
   "cell_type": "code",
   "execution_count": 7,
   "metadata": {
    "collapsed": false
   },
   "outputs": [
    {
     "name": "stdout",
     "output_type": "stream",
     "text": [
      "Test set:\n",
      "  X: (12 months up to) 2015-01 ~ (12 months up to) 2015-12\n",
      "  Y:                   2016-01 ~                   2016-12\n",
      "Prediction set:\n",
      "  X: (12 months up to) 2016-01 ~ (12 months up to) 2016-12\n",
      "\n"
     ]
    }
   ],
   "source": [
    "# Split test and prediction sets\n",
    "X_test = X.iloc[-24:-12, :]\n",
    "Y_test = Y.iloc[-12:, :]\n",
    "X_pred = X.iloc[-12:, :]\n",
    "print('Test set:\\n' +\n",
    "      '  X: (12 months up to) {} ~ (12 months up to) {}\\n'.format(X_test.index[0], X_test.index[-1]) +\n",
    "      '  Y:                   {} ~                   {}'.format(Y_test.index[0], Y_test.index[-1]))\n",
    "print('Prediction set:\\n' +\n",
    "      '  X: (12 months up to) {} ~ (12 months up to) {}\\n'.format(X_pred.index[0], X_pred.index[-1]))"
   ]
  },
  {
   "cell_type": "code",
   "execution_count": 8,
   "metadata": {
    "collapsed": false
   },
   "outputs": [
    {
     "name": "stdout",
     "output_type": "stream",
     "text": [
      "Training data:\n",
      "  X: (12 months up to) 2003-12 ~ (12 months up to) 2014-12\n",
      "  Y:                   2004-12 ~                   2015-12\n"
     ]
    }
   ],
   "source": [
    "# Training data\n",
    "X = X.iloc[:-24, :]\n",
    "Y = Y.iloc[(11+12):-12, :]\n",
    "print('Training data:\\n' +\n",
    "      '  X: (12 months up to) {} ~ (12 months up to) {}\\n'.format(X.index[0], X.index[-1]) +\n",
    "      '  Y:                   {} ~                   {}'.format(Y.index[0], Y.index[-1]))"
   ]
  },
  {
   "cell_type": "markdown",
   "metadata": {},
   "source": [
    "## Part 3: Mean Normalization and Feature Scaling"
   ]
  },
  {
   "cell_type": "code",
   "execution_count": 9,
   "metadata": {
    "collapsed": false
   },
   "outputs": [],
   "source": [
    "from sklearn.preprocessing import StandardScaler\n",
    "\n",
    "scaler = StandardScaler().fit(X)\n",
    "X_mean = scaler.mean_\n",
    "X_std = scaler.scale_\n",
    "X = scaler.transform(X)"
   ]
  },
  {
   "cell_type": "code",
   "execution_count": 10,
   "metadata": {
    "collapsed": false,
    "scrolled": true
   },
   "outputs": [
    {
     "name": "stdout",
     "output_type": "stream",
     "text": [
      "Dimensions of X: 133 x 24853\n"
     ]
    }
   ],
   "source": [
    "import numpy as np\n",
    "\n",
    "# Add column of all ones to X\n",
    "X = np.column_stack((np.ones(X.shape[0]), X))\n",
    "print('Dimensions of X: {} x {}'.format(X.shape[0], X.shape[1]))"
   ]
  },
  {
   "cell_type": "code",
   "execution_count": 11,
   "metadata": {
    "collapsed": true
   },
   "outputs": [],
   "source": [
    "# Select one target variable\n",
    "y = Y['全球']"
   ]
  },
  {
   "cell_type": "markdown",
   "metadata": {},
   "source": [
    "## Part 4: Plotting Learning Curves"
   ]
  },
  {
   "cell_type": "code",
   "execution_count": 12,
   "metadata": {
    "collapsed": false
   },
   "outputs": [
    {
     "name": "stdout",
     "output_type": "stream",
     "text": [
      "Training set size: 79\n",
      "Cross validation set size: 54\n"
     ]
    }
   ],
   "source": [
    "# Split X into training and cross validation sets\n",
    "from sklearn.model_selection import train_test_split\n",
    "\n",
    "X_train, X_cv, y_train, y_cv = train_test_split(X, y, test_size=0.4, random_state=7)\n",
    "print('Training set size: {}\\n'.format(len(X_train)) +\n",
    "      'Cross validation set size: {}'.format(len(X_cv)))"
   ]
  },
  {
   "cell_type": "code",
   "execution_count": 13,
   "metadata": {
    "collapsed": false
   },
   "outputs": [],
   "source": [
    "from sklearn.utils import resample\n",
    "from sklearn.linear_model import Ridge\n",
    "from sklearn.metrics import mean_squared_error\n",
    "\n",
    "def computeLearningCurveData(X_train, X_cv, y_train, y_cv, n_samples, n_iter=100):\n",
    "    \"\"\"\n",
    "    Iteratively resamples specified number of examples from training and cv sets,\n",
    "    Uses the selected examples to fit model, and computes training and cv errors.\n",
    "    Returns averaged training and cv errors.\n",
    "    \"\"\"\n",
    "    train_errors = np.zeros(n_iter)\n",
    "    cv_errors    = np.zeros(n_iter)\n",
    "    \n",
    "    for i in range(n_iter):\n",
    "        # Randomly select ``n_samples`` examples from training and cv sets, respectively\n",
    "        X_train_samp, y_train_samp = resample(X_train, y_train, n_samples=n_samples, replace=False)\n",
    "        X_cv_samp, y_cv_samp = resample(X_cv, y_cv, n_samples=n_samples, replace=False)\n",
    "        # Train model\n",
    "        regr = Ridge(alpha=0.1)\n",
    "        regr.fit(X_train_samp, y_train_samp)\n",
    "        # Make predictions\n",
    "        y_train_pred = regr.predict(X_train_samp)\n",
    "        y_cv_pred    = regr.predict(X_cv_samp)\n",
    "        # Compute MSE and save to train_errors, cv_errors\n",
    "        train_errors[i] = mean_squared_error(y_train_samp, y_train_pred)\n",
    "        cv_errors[i]    = mean_squared_error(y_cv_samp, y_cv_pred)\n",
    "    \n",
    "    return np.mean(train_errors), np.mean(cv_errors)\n",
    "\n",
    "# Compute averaged training and cv errors for m = 1, ..., 50\n",
    "m_max = 50\n",
    "train_errors = np.zeros(m_max)\n",
    "cv_errors    = np.zeros(m_max)\n",
    "\n",
    "for m in range(1, m_max+1):\n",
    "    train_error, cv_error = computeLearningCurveData(X_train, X_cv, y_train, y_cv, n_samples=m)\n",
    "    train_errors[m-1], cv_errors[m-1] = train_error, cv_error"
   ]
  },
  {
   "cell_type": "code",
   "execution_count": 14,
   "metadata": {
    "collapsed": false
   },
   "outputs": [
    {
     "data": {
      "image/png": "[encoded data removed]",
      "text/plain": [
       "<matplotlib.figure.Figure at 0x8f67fd0>"
      ]
     },
     "metadata": {},
     "output_type": "display_data"
    },
    {
     "name": "stdout",
     "output_type": "stream",
     "text": [
      "# It is verified we have a low bias learning algorithm.\n"
     ]
    }
   ],
   "source": [
    "import matplotlib.pyplot as plt\n",
    "\n",
    "plt.plot(range(1, m_max+1), train_errors, range(1, m_max+1), cv_errors)\n",
    "plt.title('Learning Curves (Randomized)')\n",
    "plt.xlabel('Training Set Size')\n",
    "plt.ylabel('Error')\n",
    "plt.legend(['Train', 'CV'])\n",
    "plt.grid(True)\n",
    "plt.show()\n",
    "print('# It is verified we have a low bias learning algorithm.')"
   ]
  },
  {
   "cell_type": "markdown",
   "metadata": {},
   "source": [
    "## Part 5: Choosing Lambda"
   ]
  },
  {
   "cell_type": "code",
   "execution_count": 15,
   "metadata": {
    "collapsed": false
   },
   "outputs": [],
   "source": [
    "# Split X into training and cross validation sets\n",
    "X_train, X_cv, y_train, y_cv = train_test_split(X, y, test_size=0.25, random_state=7)"
   ]
  },
  {
   "cell_type": "code",
   "execution_count": 16,
   "metadata": {
    "collapsed": false
   },
   "outputs": [],
   "source": [
    "# Some useful values\n",
    "lambdas = np.logspace(-10, 3, 50)\n",
    "n_lambdas = len(lambdas)\n",
    "\n",
    "train_errors = np.zeros(n_lambdas)\n",
    "cv_errors    = np.zeros(n_lambdas)\n",
    "\n",
    "for i in range(n_lambdas):\n",
    "    l = lambdas[i]\n",
    "    # Train model\n",
    "    regr = Ridge(alpha=l)\n",
    "    regr.fit(X_train, y_train)\n",
    "    # Make predictions\n",
    "    y_train_pred = regr.predict(X_train)\n",
    "    y_cv_pred    = regr.predict(X_cv)\n",
    "    # Compute MSE and save to train_errors, cv_errors\n",
    "    train_errors[i] = mean_squared_error(y_train, y_train_pred)\n",
    "    cv_errors[i]    = mean_squared_error(y_cv, y_cv_pred)"
   ]
  },
  {
   "cell_type": "code",
   "execution_count": 17,
   "metadata": {
    "collapsed": false
   },
   "outputs": [
    {
     "data": {
      "image/png": "[encoded data removed]",
      "text/plain": [
       "<matplotlib.figure.Figure at 0x8db17f0>"
      ]
     },
     "metadata": {},
     "output_type": "display_data"
    }
   ],
   "source": [
    "# Plot cross validation curve\n",
    "plt.clf()\n",
    "plt.plot(lambdas, train_errors, lambdas, cv_errors)\n",
    "plt.title('Cross Validation Curve')\n",
    "plt.xlabel('Lambda')\n",
    "plt.ylabel('Error')\n",
    "plt.yscale('log')\n",
    "plt.legend(['Train', 'CV'])\n",
    "plt.grid(True)\n",
    "plt.show()"
   ]
  }
 ],
 "metadata": {
  "anaconda-cloud": {},
  "kernelspec": {
   "display_name": "Python [conda root]",
   "language": "python",
   "name": "conda-root-py"
  },
  "language_info": {
   "codemirror_mode": {
    "name": "ipython",
    "version": 3
   },
   "file_extension": ".py",
   "mimetype": "text/x-python",
   "name": "python",
   "nbconvert_exporter": "python",
   "pygments_lexer": "ipython3",
   "version": "3.5.2"
  }
 },
 "nbformat": 4,
 "nbformat_minor": 1
}
